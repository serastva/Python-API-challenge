{
 "cells": [
  {
   "cell_type": "markdown",
   "metadata": {},
   "source": [
    "# WeatherPy\n",
    "----\n",
    "\n",
    "#### Note\n",
    "* Instructions have been included for each segment. You do not have to follow them exactly, but they are included to help you think through the steps."
   ]
  },
  {
   "cell_type": "code",
   "execution_count": 2,
   "metadata": {
    "scrolled": true
   },
   "outputs": [],
   "source": [
    "# Dependencies and Setup\n",
    "import matplotlib.pyplot as plt\n",
    "import pandas as pd\n",
    "import numpy as np\n",
    "import requests\n",
    "import time\n",
    "from scipy.stats import linregress\n",
    "\n",
    "# Import API key\n",
    "from api_keys import weather_api_key\n",
    "\n",
    "# Incorporated citipy to determine city based on latitude and longitude\n",
    "from citipy import citipy\n",
    "\n",
    "# Output File (CSV)\n",
    "output_data_file = \"../output_data_weatherpy/cities.csv\"\n",
    "\n",
    "# Range of latitudes and longitudes\n",
    "lat_range = (-90, 90)\n",
    "lng_range = (-180, 180)"
   ]
  },
  {
   "cell_type": "markdown",
   "metadata": {},
   "source": [
    "## Generate Cities List"
   ]
  },
  {
   "cell_type": "code",
   "execution_count": 4,
   "metadata": {},
   "outputs": [
    {
     "data": {
      "text/plain": [
       "597"
      ]
     },
     "execution_count": 4,
     "metadata": {},
     "output_type": "execute_result"
    }
   ],
   "source": [
    "# List for holding lat_lngs and cities\n",
    "lat_lngs = []\n",
    "cities = []\n",
    "\n",
    "# Create a set of random lat and lng combinations\n",
    "lats = np.random.uniform(lat_range[0], lat_range[1], size=1500)\n",
    "lngs = np.random.uniform(lng_range[0], lng_range[1], size=1500)\n",
    "lat_lngs = zip(lats, lngs)\n",
    "\n",
    "# Identify nearest city for each lat, lng combination\n",
    "for lat_lng in lat_lngs:\n",
    "    city = citipy.nearest_city(lat_lng[0], lat_lng[1]).city_name\n",
    "    \n",
    "    # If the city is unique, then add it to a our cities list\n",
    "    if city not in cities:\n",
    "        cities.append(city)\n",
    "\n",
    "# Print the city count to confirm sufficient count\n",
    "len(cities)"
   ]
  },
  {
   "cell_type": "markdown",
   "metadata": {},
   "source": [
    "### Perform API Calls\n",
    "* Perform a weather check on each city using a series of successive API calls.\n",
    "* Include a print log of each city as it'sbeing processed (with the city number and city name).\n"
   ]
  },
  {
   "cell_type": "code",
   "execution_count": 5,
   "metadata": {},
   "outputs": [
    {
     "name": "stdout",
     "output_type": "stream",
     "text": [
      "-------------------------\n",
      "Beginning Data Retrieval \n",
      "-------------------------\n",
      "Processing Record 1 of Set 1 : vaini\n",
      "Processing Record 2 of Set 1 : cap malheureux\n",
      "Processing Record 3 of Set 1 : kapaa\n",
      "Processing Record 4 of Set 1 : ugoofaaru\n",
      "Processing Record 5 of Set 1 : acarau\n",
      "Processing Record 6 of Set 1 : ushuaia\n",
      "Processing Record 7 of Set 1 : castro\n",
      "Processing Record 8 of Set 1 : saint anthony\n",
      "Processing Record 9 of Set 1 : bambous virieux\n",
      "Processing Record 10 of Set 1 : norman wells\n",
      "Processing Record 11 of Set 1 : sioux lookout\n",
      "Processing Record 12 of Set 1 : qaanaaq\n",
      "Processing Record 13 of Set 1 : bengkulu\n",
      "Processing Record 14 of Set 1 : hami\n",
      "Processing Record 15 of Set 1 : yellowknife\n",
      "Processing Record 16 of Set 1 : tasiilaq\n",
      "Processing Record 17 of Set 1 : jamestown\n",
      "Processing Record 18 of Set 1 : pevek\n",
      "Processing Record 19 of Set 1 : payakumbuh\n",
      "Processing Record 20 of Set 1 : mount isa\n",
      "Error: No such city\n",
      "Processing Record 21 of Set 1 : georgetown\n",
      "Processing Record 22 of Set 1 : windhoek\n",
      "Processing Record 23 of Set 1 : constitucion\n",
      "Processing Record 24 of Set 1 : wewak\n",
      "Processing Record 25 of Set 1 : bayonet point\n",
      "Error: No such city\n",
      "Processing Record 26 of Set 1 : sinnamary\n",
      "Processing Record 27 of Set 1 : san patricio\n",
      "Processing Record 28 of Set 1 : busselton\n",
      "Processing Record 29 of Set 1 : albany\n",
      "Processing Record 30 of Set 1 : rawson\n",
      "Processing Record 31 of Set 1 : bluff\n",
      "Processing Record 32 of Set 1 : olafsvik\n",
      "Processing Record 33 of Set 1 : sorong\n",
      "Processing Record 34 of Set 1 : avarua\n",
      "Error: No such city\n",
      "Error: No such city\n",
      "Processing Record 35 of Set 1 : hamilton\n",
      "Processing Record 36 of Set 1 : beloha\n",
      "Processing Record 37 of Set 1 : taoudenni\n",
      "Processing Record 38 of Set 1 : pisco\n",
      "Processing Record 39 of Set 1 : pyshma\n",
      "Processing Record 40 of Set 1 : makakilo city\n",
      "Processing Record 41 of Set 1 : bacolod\n",
      "Processing Record 42 of Set 1 : tuatapere\n",
      "Processing Record 43 of Set 1 : hit\n",
      "Processing Record 44 of Set 1 : saint-philippe\n",
      "Processing Record 45 of Set 1 : tondi\n",
      "Error: No such city\n",
      "Processing Record 46 of Set 1 : atuona\n",
      "Processing Record 47 of Set 1 : punta arenas\n",
      "Processing Record 48 of Set 1 : namatanai\n",
      "Processing Record 49 of Set 1 : margate\n",
      "Processing Record 50 of Set 1 : riyadh\n",
      "Processing Record 0 of Set 2 : puerto ayora\n",
      "Processing Record 1 of Set 2 : rikitea\n",
      "Processing Record 2 of Set 2 : mataura\n",
      "Processing Record 3 of Set 2 : hermanus\n",
      "Processing Record 4 of Set 2 : kavieng\n",
      "Processing Record 5 of Set 2 : chuy\n",
      "Processing Record 6 of Set 2 : esperance\n",
      "Processing Record 7 of Set 2 : ribeira grande\n",
      "Processing Record 8 of Set 2 : chara\n",
      "Processing Record 9 of Set 2 : butaritari\n",
      "Processing Record 10 of Set 2 : bredasdorp\n",
      "Processing Record 11 of Set 2 : miandrivazo\n",
      "Processing Record 12 of Set 2 : carnarvon\n",
      "Processing Record 13 of Set 2 : nassau\n",
      "Processing Record 14 of Set 2 : chokurdakh\n",
      "Processing Record 15 of Set 2 : cape town\n",
      "Processing Record 16 of Set 2 : sitka\n",
      "Processing Record 17 of Set 2 : mahebourg\n",
      "Processing Record 18 of Set 2 : port elizabeth\n",
      "Processing Record 19 of Set 2 : sidmouth\n",
      "Processing Record 20 of Set 2 : mount gambier\n",
      "Processing Record 21 of Set 2 : kutum\n",
      "Processing Record 22 of Set 2 : port alfred\n",
      "Processing Record 23 of Set 2 : maragogi\n",
      "Processing Record 24 of Set 2 : waipawa\n",
      "Processing Record 25 of Set 2 : okha\n",
      "Processing Record 26 of Set 2 : klaksvik\n",
      "Processing Record 27 of Set 2 : arraial do cabo\n",
      "Processing Record 28 of Set 2 : balabac\n",
      "Processing Record 29 of Set 2 : minsk\n",
      "Processing Record 30 of Set 2 : kavaratti\n",
      "Processing Record 31 of Set 2 : hilo\n",
      "Processing Record 32 of Set 2 : victoria\n",
      "Processing Record 33 of Set 2 : qui nhon\n",
      "Processing Record 34 of Set 2 : salalah\n",
      "Processing Record 35 of Set 2 : faanui\n",
      "Processing Record 36 of Set 2 : shizunai\n",
      "Processing Record 37 of Set 2 : bayji\n",
      "Error: No such city\n",
      "Processing Record 38 of Set 2 : severo-kurilsk\n",
      "Processing Record 39 of Set 2 : inhambane\n",
      "Processing Record 40 of Set 2 : viseu\n",
      "Processing Record 41 of Set 2 : cidreira\n",
      "Processing Record 42 of Set 2 : tual\n",
      "Processing Record 43 of Set 2 : vysokogornyy\n",
      "Processing Record 44 of Set 2 : new norfolk\n",
      "Processing Record 45 of Set 2 : dikson\n",
      "Processing Record 46 of Set 2 : nikolskoye\n",
      "Error: No such city\n",
      "Processing Record 47 of Set 2 : husavik\n",
      "Processing Record 48 of Set 2 : coquimbo\n",
      "Processing Record 49 of Set 2 : port lincoln\n",
      "Processing Record 50 of Set 2 : tanout\n",
      "Processing Record 0 of Set 3 : novoagansk\n",
      "Processing Record 1 of Set 3 : persianovskiy\n",
      "Error: No such city\n",
      "Processing Record 2 of Set 3 : san jose\n",
      "Processing Record 3 of Set 3 : sinazongwe\n",
      "Processing Record 4 of Set 3 : ballina\n",
      "Processing Record 5 of Set 3 : cruzeiro do sul\n",
      "Processing Record 6 of Set 3 : niksic\n",
      "Processing Record 7 of Set 3 : kundiawa\n",
      "Processing Record 8 of Set 3 : ponta do sol\n",
      "Processing Record 9 of Set 3 : krasnoselkup\n",
      "Processing Record 10 of Set 3 : narrabri\n",
      "Processing Record 11 of Set 3 : sovetskaya gavan\n",
      "Processing Record 12 of Set 3 : emerald\n",
      "Processing Record 13 of Set 3 : burnie\n",
      "Error: No such city\n",
      "Processing Record 14 of Set 3 : calatayud\n",
      "Processing Record 15 of Set 3 : kashan\n",
      "Processing Record 16 of Set 3 : imeni babushkina\n",
      "Processing Record 17 of Set 3 : codrington\n",
      "Processing Record 18 of Set 3 : kidal\n",
      "Processing Record 19 of Set 3 : nhulunbuy\n",
      "Processing Record 20 of Set 3 : kamaishi\n",
      "Processing Record 21 of Set 3 : hithadhoo\n",
      "Error: No such city\n",
      "Error: No such city\n",
      "Error: No such city\n",
      "Processing Record 22 of Set 3 : mangrol\n",
      "Processing Record 23 of Set 3 : longyearbyen\n",
      "Processing Record 24 of Set 3 : otradnoye\n",
      "Processing Record 25 of Set 3 : nicoya\n",
      "Processing Record 26 of Set 3 : jardim\n",
      "Processing Record 27 of Set 3 : bathsheba\n",
      "Processing Record 28 of Set 3 : koulikoro\n",
      "Processing Record 29 of Set 3 : ruteng\n",
      "Processing Record 30 of Set 3 : atar\n",
      "Processing Record 31 of Set 3 : talnakh\n",
      "Processing Record 32 of Set 3 : puerto del rosario\n",
      "Processing Record 33 of Set 3 : hobart\n",
      "Processing Record 34 of Set 3 : baykit\n",
      "Processing Record 35 of Set 3 : chimbote\n",
      "Processing Record 36 of Set 3 : suffolk\n",
      "Processing Record 37 of Set 3 : abha\n",
      "Processing Record 38 of Set 3 : hasaki\n",
      "Processing Record 39 of Set 3 : vanimo\n",
      "Processing Record 40 of Set 3 : provideniya\n",
      "Processing Record 41 of Set 3 : stornoway\n",
      "Processing Record 42 of Set 3 : port augusta\n",
      "Processing Record 43 of Set 3 : yining\n",
      "Error: No such city\n",
      "Processing Record 44 of Set 3 : atbasar\n",
      "Processing Record 45 of Set 3 : asau\n",
      "Processing Record 46 of Set 3 : fairbanks\n",
      "Processing Record 47 of Set 3 : dandong\n",
      "Error: No such city\n",
      "Processing Record 48 of Set 3 : kahului\n",
      "Processing Record 49 of Set 3 : yerkoy\n",
      "Processing Record 50 of Set 3 : kabare\n",
      "Processing Record 0 of Set 4 : xining\n",
      "Processing Record 1 of Set 4 : marsala\n",
      "Processing Record 2 of Set 4 : abu samrah\n",
      "Processing Record 3 of Set 4 : fjerritslev\n",
      "Processing Record 4 of Set 4 : kodiak\n",
      "Processing Record 5 of Set 4 : barrow\n",
      "Processing Record 6 of Set 4 : yakeshi\n",
      "Processing Record 7 of Set 4 : novo aripuana\n",
      "Processing Record 8 of Set 4 : hovd\n",
      "Processing Record 9 of Set 4 : rio grande\n",
      "Processing Record 10 of Set 4 : khatanga\n",
      "Processing Record 11 of Set 4 : port hawkesbury\n",
      "Error: No such city\n",
      "Processing Record 12 of Set 4 : mporokoso\n",
      "Processing Record 13 of Set 4 : puerto maldonado\n",
      "Processing Record 14 of Set 4 : el chichicaste\n",
      "Processing Record 15 of Set 4 : komsomolskiy\n",
      "Processing Record 16 of Set 4 : aripuana\n",
      "Processing Record 17 of Set 4 : the valley\n",
      "Processing Record 18 of Set 4 : antofagasta\n",
      "Processing Record 19 of Set 4 : meulaboh\n",
      "Processing Record 20 of Set 4 : tuktoyaktuk\n",
      "Processing Record 21 of Set 4 : mar del plata\n",
      "Processing Record 22 of Set 4 : shahreza\n",
      "Processing Record 23 of Set 4 : ilulissat\n",
      "Processing Record 24 of Set 4 : puranpur\n",
      "Error: No such city\n",
      "Processing Record 25 of Set 4 : tiksi\n",
      "Processing Record 26 of Set 4 : methoni\n",
      "Processing Record 27 of Set 4 : bethel\n",
      "Processing Record 28 of Set 4 : rio gallegos\n",
      "Processing Record 29 of Set 4 : whitehorse\n",
      "Processing Record 30 of Set 4 : bama\n",
      "Processing Record 31 of Set 4 : mogzon\n",
      "Processing Record 32 of Set 4 : clyde river\n",
      "Processing Record 33 of Set 4 : erenhot\n",
      "Processing Record 34 of Set 4 : lavrentiya\n",
      "Processing Record 35 of Set 4 : csabrendek\n",
      "Processing Record 36 of Set 4 : hirara\n",
      "Error: No such city\n"
     ]
    },
    {
     "name": "stdout",
     "output_type": "stream",
     "text": [
      "Processing Record 37 of Set 4 : anzio\n",
      "Error: No such city\n",
      "Processing Record 38 of Set 4 : half moon bay\n",
      "Processing Record 39 of Set 4 : maryborough\n",
      "Processing Record 40 of Set 4 : petropavlovsk-kamchatskiy\n",
      "Processing Record 41 of Set 4 : lorengau\n",
      "Processing Record 42 of Set 4 : paamiut\n",
      "Processing Record 43 of Set 4 : eenhana\n",
      "Processing Record 44 of Set 4 : saldanha\n",
      "Processing Record 45 of Set 4 : grindavik\n",
      "Processing Record 46 of Set 4 : ribas do rio pardo\n",
      "Processing Record 47 of Set 4 : cayenne\n",
      "Processing Record 48 of Set 4 : parkersburg\n",
      "Processing Record 49 of Set 4 : nemuro\n",
      "Processing Record 50 of Set 4 : lata\n",
      "Processing Record 0 of Set 5 : lebu\n",
      "Processing Record 1 of Set 5 : ancud\n",
      "Processing Record 2 of Set 5 : kijang\n",
      "Processing Record 3 of Set 5 : thompson\n",
      "Processing Record 4 of Set 5 : narsaq\n",
      "Processing Record 5 of Set 5 : baker city\n",
      "Processing Record 6 of Set 5 : vredendal\n",
      "Processing Record 7 of Set 5 : pennathur\n",
      "Processing Record 8 of Set 5 : bahia blanca\n",
      "Processing Record 9 of Set 5 : cockburn town\n",
      "Processing Record 10 of Set 5 : chaihe\n",
      "Processing Record 11 of Set 5 : nsoko\n",
      "Processing Record 12 of Set 5 : ouahigouya\n",
      "Processing Record 13 of Set 5 : havre-saint-pierre\n",
      "Processing Record 14 of Set 5 : bandarbeyla\n",
      "Processing Record 15 of Set 5 : ciechanow\n",
      "Processing Record 16 of Set 5 : zhigansk\n",
      "Processing Record 17 of Set 5 : petropavl\n",
      "Processing Record 18 of Set 5 : upernavik\n",
      "Processing Record 19 of Set 5 : sao filipe\n",
      "Processing Record 20 of Set 5 : saskylakh\n",
      "Processing Record 21 of Set 5 : tahe\n",
      "Processing Record 22 of Set 5 : torbay\n",
      "Processing Record 23 of Set 5 : udachnyy\n",
      "Processing Record 24 of Set 5 : barcelos\n",
      "Processing Record 25 of Set 5 : rosario\n",
      "Processing Record 26 of Set 5 : coahuayana\n",
      "Processing Record 27 of Set 5 : geraldton\n",
      "Processing Record 28 of Set 5 : cajati\n",
      "Processing Record 29 of Set 5 : nome\n",
      "Processing Record 30 of Set 5 : bonfim\n",
      "Processing Record 31 of Set 5 : kashary\n",
      "Processing Record 32 of Set 5 : luderitz\n",
      "Processing Record 33 of Set 5 : bartlesville\n",
      "Processing Record 34 of Set 5 : sur\n",
      "Processing Record 35 of Set 5 : limbang\n",
      "Processing Record 36 of Set 5 : guerrero negro\n",
      "Processing Record 37 of Set 5 : alofi\n",
      "Processing Record 38 of Set 5 : oranjemund\n",
      "Processing Record 39 of Set 5 : lasa\n",
      "Processing Record 40 of Set 5 : te anau\n",
      "Processing Record 41 of Set 5 : khasan\n",
      "Processing Record 42 of Set 5 : auki\n",
      "Processing Record 43 of Set 5 : fort nelson\n",
      "Processing Record 44 of Set 5 : altay\n",
      "Error: No such city\n",
      "Processing Record 45 of Set 5 : hambantota\n",
      "Processing Record 46 of Set 5 : sao jose da coroa grande\n",
      "Processing Record 47 of Set 5 : kloulklubed\n",
      "Processing Record 48 of Set 5 : leningradskiy\n",
      "Error: No such city\n",
      "Processing Record 49 of Set 5 : iquitos\n",
      "Processing Record 50 of Set 5 : lompoc\n",
      "Processing Record 0 of Set 6 : bilma\n",
      "Processing Record 1 of Set 6 : myitkyina\n",
      "Processing Record 2 of Set 6 : yeppoon\n",
      "Processing Record 3 of Set 6 : cherskiy\n",
      "Processing Record 4 of Set 6 : rudbar\n",
      "Processing Record 5 of Set 6 : dharchula\n",
      "Processing Record 6 of Set 6 : grand haven\n",
      "Processing Record 7 of Set 6 : chaupal\n",
      "Processing Record 8 of Set 6 : usolye\n",
      "Processing Record 9 of Set 6 : coolum beach\n",
      "Processing Record 10 of Set 6 : belyy yar\n",
      "Processing Record 11 of Set 6 : nanortalik\n",
      "Processing Record 12 of Set 6 : linares\n",
      "Processing Record 13 of Set 6 : shitanjing\n",
      "Processing Record 14 of Set 6 : olinda\n",
      "Error: No such city\n",
      "Processing Record 15 of Set 6 : manubul\n",
      "Processing Record 16 of Set 6 : petropavlovka\n",
      "Processing Record 17 of Set 6 : tautira\n",
      "Processing Record 18 of Set 6 : tokur\n",
      "Processing Record 19 of Set 6 : rogers\n",
      "Processing Record 20 of Set 6 : brownwood\n",
      "Processing Record 21 of Set 6 : iranshahr\n",
      "Processing Record 22 of Set 6 : hobyo\n",
      "Processing Record 23 of Set 6 : kieta\n",
      "Processing Record 24 of Set 6 : mahon\n",
      "Processing Record 25 of Set 6 : hay river\n",
      "Processing Record 26 of Set 6 : harnosand\n",
      "Processing Record 27 of Set 6 : qaqortoq\n",
      "Processing Record 28 of Set 6 : port macquarie\n",
      "Processing Record 29 of Set 6 : maniitsoq\n",
      "Processing Record 30 of Set 6 : bubaque\n",
      "Processing Record 31 of Set 6 : grand gaube\n",
      "Processing Record 32 of Set 6 : neuquen\n",
      "Processing Record 33 of Set 6 : east london\n",
      "Processing Record 34 of Set 6 : sobolevo\n",
      "Processing Record 35 of Set 6 : borogontsy\n",
      "Processing Record 36 of Set 6 : tazovskiy\n",
      "Processing Record 37 of Set 6 : ilabaya\n",
      "Processing Record 38 of Set 6 : raudeberg\n",
      "Processing Record 39 of Set 6 : jaru\n",
      "Processing Record 40 of Set 6 : ivankiv\n",
      "Processing Record 41 of Set 6 : leh\n",
      "Processing Record 42 of Set 6 : mecca\n",
      "Processing Record 43 of Set 6 : saint george\n",
      "Processing Record 44 of Set 6 : itarema\n",
      "Processing Record 45 of Set 6 : isangel\n",
      "Processing Record 46 of Set 6 : pontianak\n",
      "Processing Record 47 of Set 6 : lagoa\n",
      "Processing Record 48 of Set 6 : acapulco\n",
      "Processing Record 49 of Set 6 : martinsville\n",
      "Processing Record 50 of Set 6 : letnyaya stavka\n",
      "Error: No such city\n",
      "Processing Record 0 of Set 7 : tsabong\n",
      "Error: No such city\n",
      "Processing Record 1 of Set 7 : idlib\n",
      "Processing Record 2 of Set 7 : florianopolis\n",
      "Processing Record 3 of Set 7 : copiapo\n",
      "Processing Record 4 of Set 7 : lodwar\n",
      "Error: No such city\n",
      "Processing Record 5 of Set 7 : straumen\n",
      "Error: No such city\n",
      "Processing Record 6 of Set 7 : warsaw\n",
      "Processing Record 7 of Set 7 : winslow\n",
      "Processing Record 8 of Set 7 : nsanje\n",
      "Processing Record 9 of Set 7 : bajitpur\n",
      "Processing Record 10 of Set 7 : homer\n",
      "Processing Record 11 of Set 7 : vila franca do campo\n",
      "Processing Record 12 of Set 7 : iki-burul\n",
      "Processing Record 13 of Set 7 : almenara\n",
      "Processing Record 14 of Set 7 : aquin\n",
      "Processing Record 15 of Set 7 : makoshyne\n",
      "Processing Record 16 of Set 7 : vanavara\n",
      "Processing Record 17 of Set 7 : namibe\n",
      "Processing Record 18 of Set 7 : macau\n",
      "Processing Record 19 of Set 7 : vao\n",
      "Processing Record 20 of Set 7 : kangaba\n",
      "Processing Record 21 of Set 7 : barmer\n",
      "Processing Record 22 of Set 7 : souillac\n",
      "Processing Record 23 of Set 7 : garissa\n",
      "Processing Record 24 of Set 7 : primorsk\n",
      "Processing Record 25 of Set 7 : concarneau\n",
      "Processing Record 26 of Set 7 : yei\n",
      "Processing Record 27 of Set 7 : shingu\n",
      "Processing Record 28 of Set 7 : tobermory\n",
      "Error: No such city\n",
      "Processing Record 29 of Set 7 : pacific grove\n",
      "Processing Record 30 of Set 7 : nishihara\n",
      "Processing Record 31 of Set 7 : tessalit\n",
      "Processing Record 32 of Set 7 : bonavista\n",
      "Processing Record 33 of Set 7 : san quintin\n",
      "Processing Record 34 of Set 7 : port hedland\n",
      "Processing Record 35 of Set 7 : moose factory\n",
      "Processing Record 36 of Set 7 : merrill\n",
      "Processing Record 37 of Set 7 : beyneu\n",
      "Processing Record 38 of Set 7 : harlingen\n",
      "Processing Record 39 of Set 7 : college\n",
      "Processing Record 40 of Set 7 : ostrovnoy\n",
      "Processing Record 41 of Set 7 : richards bay\n",
      "Processing Record 42 of Set 7 : elizabeth city\n",
      "Processing Record 43 of Set 7 : tukrah\n",
      "Processing Record 44 of Set 7 : poya\n",
      "Processing Record 45 of Set 7 : lipetsk\n",
      "Processing Record 46 of Set 7 : nantucket\n",
      "Processing Record 47 of Set 7 : taksimo\n",
      "Processing Record 48 of Set 7 : sao joao da barra\n",
      "Processing Record 49 of Set 7 : rognan\n",
      "Processing Record 50 of Set 7 : nabire\n",
      "Processing Record 0 of Set 8 : lazaro cardenas\n",
      "Processing Record 1 of Set 8 : parry sound\n",
      "Processing Record 2 of Set 8 : leninsk\n",
      "Processing Record 3 of Set 8 : omsukchan\n",
      "Processing Record 4 of Set 8 : bath\n",
      "Processing Record 5 of Set 8 : haimen\n",
      "Processing Record 6 of Set 8 : mariakani\n",
      "Processing Record 7 of Set 8 : skibbereen\n",
      "Processing Record 8 of Set 8 : airai\n",
      "Processing Record 9 of Set 8 : yuanping\n",
      "Error: No such city\n",
      "Processing Record 10 of Set 8 : takoradi\n",
      "Processing Record 11 of Set 8 : gamba\n",
      "Processing Record 12 of Set 8 : xichang\n",
      "Processing Record 13 of Set 8 : atambua\n",
      "Error: No such city\n",
      "Processing Record 14 of Set 8 : blankenberge\n",
      "Processing Record 15 of Set 8 : talara\n",
      "Error: No such city\n",
      "Processing Record 16 of Set 8 : saint-pierre\n",
      "Processing Record 17 of Set 8 : turki\n",
      "Processing Record 18 of Set 8 : mana\n",
      "Error: No such city\n",
      "Processing Record 19 of Set 8 : warragul\n",
      "Processing Record 20 of Set 8 : ungheni\n",
      "Processing Record 21 of Set 8 : verkhnyaya inta\n",
      "Processing Record 22 of Set 8 : vardo\n",
      "Processing Record 23 of Set 8 : texarkana\n",
      "Processing Record 24 of Set 8 : broken arrow\n",
      "Processing Record 25 of Set 8 : gold coast\n"
     ]
    },
    {
     "name": "stdout",
     "output_type": "stream",
     "text": [
      "Processing Record 26 of Set 8 : torres\n",
      "Processing Record 27 of Set 8 : arlit\n",
      "Processing Record 28 of Set 8 : svetlyy\n",
      "Processing Record 29 of Set 8 : chiredzi\n",
      "Processing Record 30 of Set 8 : faya\n",
      "Processing Record 31 of Set 8 : almeria\n",
      "Processing Record 32 of Set 8 : winnemucca\n",
      "Processing Record 33 of Set 8 : camopi\n",
      "Processing Record 34 of Set 8 : jabinyanah\n",
      "Processing Record 35 of Set 8 : san cristobal\n",
      "Processing Record 36 of Set 8 : daugavpils\n",
      "Processing Record 37 of Set 8 : derzhavinsk\n",
      "Processing Record 38 of Set 8 : roebourne\n",
      "Processing Record 39 of Set 8 : coihaique\n",
      "Processing Record 40 of Set 8 : ucluelet\n",
      "Processing Record 41 of Set 8 : hofn\n",
      "Processing Record 42 of Set 8 : karasburg\n",
      "Processing Record 43 of Set 8 : siguiri\n",
      "Error: No such city\n",
      "Processing Record 44 of Set 8 : taloqan\n",
      "Processing Record 45 of Set 8 : kruisfontein\n",
      "Processing Record 46 of Set 8 : agirish\n",
      "Error: No such city\n",
      "Error: No such city\n",
      "Processing Record 47 of Set 8 : sorland\n",
      "Processing Record 48 of Set 8 : tilichiki\n",
      "Processing Record 49 of Set 8 : wuda\n",
      "Processing Record 50 of Set 8 : necochea\n",
      "Error: No such city\n",
      "Processing Record 0 of Set 9 : kholodnyy\n",
      "Processing Record 1 of Set 9 : kaitangata\n",
      "Processing Record 2 of Set 9 : balsas\n",
      "Processing Record 3 of Set 9 : eyl\n",
      "Processing Record 4 of Set 9 : pangai\n",
      "Processing Record 5 of Set 9 : miles city\n",
      "Processing Record 6 of Set 9 : mokhsogollokh\n",
      "Processing Record 7 of Set 9 : papetoai\n",
      "Processing Record 8 of Set 9 : romanovka\n",
      "Processing Record 9 of Set 9 : katsuura\n",
      "Processing Record 10 of Set 9 : dubrovnik\n",
      "Processing Record 11 of Set 9 : bakchar\n",
      "Processing Record 12 of Set 9 : puerto escondido\n",
      "Processing Record 13 of Set 9 : trofors\n",
      "Processing Record 14 of Set 9 : andra\n",
      "Processing Record 15 of Set 9 : kadoma\n",
      "Processing Record 16 of Set 9 : longhua\n",
      "Processing Record 17 of Set 9 : cabo san lucas\n",
      "Processing Record 18 of Set 9 : penzance\n",
      "Processing Record 19 of Set 9 : qingquan\n",
      "Processing Record 20 of Set 9 : vila velha\n",
      "Processing Record 21 of Set 9 : marawi\n",
      "Processing Record 22 of Set 9 : cervo\n",
      "Processing Record 23 of Set 9 : huarmey\n",
      "Processing Record 24 of Set 9 : sistranda\n",
      "Processing Record 25 of Set 9 : havelock\n",
      "Processing Record 26 of Set 9 : iberia\n",
      "Processing Record 27 of Set 9 : dingle\n",
      "Processing Record 28 of Set 9 : tamiahua\n",
      "Error: No such city\n",
      "Processing Record 29 of Set 9 : lichuan\n",
      "Processing Record 30 of Set 9 : port blair\n",
      "Processing Record 31 of Set 9 : cranbourne\n",
      "Processing Record 32 of Set 9 : naregal\n",
      "Processing Record 33 of Set 9 : verkhnetulomskiy\n",
      "Processing Record 34 of Set 9 : ust-maya\n",
      "Processing Record 35 of Set 9 : anupgarh\n",
      "Processing Record 36 of Set 9 : athens\n",
      "Processing Record 37 of Set 9 : dongsheng\n",
      "Error: No such city\n",
      "Processing Record 38 of Set 9 : ihtiman\n",
      "Processing Record 39 of Set 9 : masterton\n",
      "Processing Record 40 of Set 9 : cape canaveral\n",
      "Processing Record 41 of Set 9 : berlevag\n",
      "Processing Record 42 of Set 9 : hervey bay\n",
      "Processing Record 43 of Set 9 : kaka\n",
      "Processing Record 44 of Set 9 : saint-leu\n",
      "Processing Record 45 of Set 9 : humaita\n",
      "Processing Record 46 of Set 9 : victor harbor\n",
      "Processing Record 47 of Set 9 : quatre cocos\n",
      "Processing Record 48 of Set 9 : nosy varika\n",
      "Processing Record 49 of Set 9 : calvinia\n",
      "Processing Record 50 of Set 9 : batagay-alyta\n",
      "Processing Record 0 of Set 10 : touros\n",
      "Processing Record 1 of Set 10 : buta\n",
      "Processing Record 2 of Set 10 : fort-shevchenko\n",
      "Error: No such city\n",
      "Processing Record 3 of Set 10 : waddan\n",
      "Processing Record 4 of Set 10 : nuuk\n",
      "Error: No such city\n",
      "Processing Record 5 of Set 10 : bereda\n",
      "Processing Record 6 of Set 10 : muros\n",
      "Processing Record 7 of Set 10 : aklavik\n",
      "Processing Record 8 of Set 10 : amot\n",
      "Processing Record 9 of Set 10 : shelburne\n",
      "Processing Record 10 of Set 10 : oussouye\n",
      "Processing Record 11 of Set 10 : joacaba\n",
      "Processing Record 12 of Set 10 : sola\n",
      "Processing Record 13 of Set 10 : lethem\n",
      "Processing Record 14 of Set 10 : bud\n",
      "Processing Record 15 of Set 10 : vidim\n",
      "Error: No such city\n",
      "Processing Record 16 of Set 10 : dolores\n",
      "Processing Record 17 of Set 10 : morant bay\n",
      "Processing Record 18 of Set 10 : abnub\n",
      "Processing Record 19 of Set 10 : basco\n",
      "Processing Record 20 of Set 10 : qiongshan\n",
      "Processing Record 21 of Set 10 : pontalina\n",
      "Processing Record 22 of Set 10 : canyon\n",
      "Processing Record 23 of Set 10 : khorixas\n",
      "Processing Record 24 of Set 10 : bhawanipatna\n",
      "Processing Record 25 of Set 10 : flinders\n",
      "Processing Record 26 of Set 10 : klyuchi\n",
      "Processing Record 27 of Set 10 : laguna\n",
      "Processing Record 28 of Set 10 : imeni poliny osipenko\n",
      "Processing Record 29 of Set 10 : teodoro sampaio\n",
      "Processing Record 30 of Set 10 : muisne\n",
      "Processing Record 31 of Set 10 : santa cruz\n",
      "Processing Record 32 of Set 10 : sexsmith\n",
      "Processing Record 33 of Set 10 : rocha\n",
      "Processing Record 34 of Set 10 : comodoro rivadavia\n",
      "Processing Record 35 of Set 10 : marang\n",
      "Processing Record 36 of Set 10 : madison\n",
      "Processing Record 37 of Set 10 : carambei\n",
      "Processing Record 38 of Set 10 : tanabe\n",
      "Processing Record 39 of Set 10 : padang\n",
      "Processing Record 40 of Set 10 : lockhart\n",
      "Processing Record 41 of Set 10 : filadelfia\n",
      "Processing Record 42 of Set 10 : punta alta\n",
      "Processing Record 43 of Set 10 : porto walter\n",
      "Processing Record 44 of Set 10 : honiara\n",
      "Processing Record 45 of Set 10 : kushima\n",
      "Processing Record 46 of Set 10 : avera\n",
      "Processing Record 47 of Set 10 : moroto\n",
      "Processing Record 48 of Set 10 : vestmannaeyjar\n",
      "Processing Record 49 of Set 10 : nouadhibou\n",
      "Processing Record 50 of Set 10 : biltine\n",
      "Processing Record 0 of Set 11 : along\n",
      "Processing Record 1 of Set 11 : urusha\n",
      "Processing Record 2 of Set 11 : baisha\n",
      "Processing Record 3 of Set 11 : iqaluit\n",
      "Error: No such city\n",
      "Processing Record 4 of Set 11 : santa rosa\n",
      "Processing Record 5 of Set 11 : pizarro\n",
      "Processing Record 6 of Set 11 : hohhot\n",
      "Processing Record 7 of Set 11 : praia da vitoria\n",
      "Processing Record 8 of Set 11 : manyana\n",
      "Processing Record 9 of Set 11 : dwarka\n",
      "Processing Record 10 of Set 11 : solenzo\n",
      "Error: No such city\n",
      "Processing Record 11 of Set 11 : soller\n",
      "Processing Record 12 of Set 11 : adre\n",
      "Processing Record 13 of Set 11 : palana\n",
      "Processing Record 14 of Set 11 : arbazh\n",
      "Processing Record 15 of Set 11 : kenai\n",
      "Processing Record 16 of Set 11 : deputatskiy\n",
      "Processing Record 17 of Set 11 : loding\n",
      "Processing Record 18 of Set 11 : sundumbili\n",
      "Processing Record 19 of Set 11 : athabasca\n",
      "Processing Record 20 of Set 11 : finschhafen\n",
      "Processing Record 21 of Set 11 : krivodol\n",
      "Processing Record 22 of Set 11 : matara\n",
      "Processing Record 23 of Set 11 : tafo\n",
      "Processing Record 24 of Set 11 : gat\n",
      "Processing Record 25 of Set 11 : scarborough\n",
      "Processing Record 26 of Set 11 : kuching\n",
      "Processing Record 27 of Set 11 : akcaabat\n",
      "Processing Record 28 of Set 11 : dabakala\n",
      "Processing Record 29 of Set 11 : kuantan\n",
      "Processing Record 30 of Set 11 : le vauclin\n",
      "Processing Record 31 of Set 11 : bestobe\n",
      "Processing Record 32 of Set 11 : iralaya\n",
      "Processing Record 33 of Set 11 : ossora\n",
      "Processing Record 34 of Set 11 : kaeo\n",
      "Processing Record 35 of Set 11 : marsa matruh\n",
      "Processing Record 36 of Set 11 : el prat de llobregat\n",
      "Processing Record 37 of Set 11 : northam\n",
      "Processing Record 38 of Set 11 : mananjary\n",
      "Error: No such city\n",
      "Processing Record 39 of Set 11 : bambanglipuro\n",
      "Processing Record 40 of Set 11 : andrychow\n",
      "Processing Record 41 of Set 11 : senanga\n",
      "Processing Record 42 of Set 11 : chojnice\n",
      "Processing Record 43 of Set 11 : rudnogorsk\n",
      "Processing Record 44 of Set 11 : labuhan\n",
      "Processing Record 45 of Set 11 : mehran\n",
      "-------------------------------\n",
      "Data Retrieval Complete\n",
      "-------------------------------\n"
     ]
    }
   ],
   "source": [
    "#Blank lists\n",
    "\n",
    "city_list = []\n",
    "country = []\n",
    "latitude = []\n",
    "longitude = []\n",
    "\n",
    "cloud = []\n",
    "humidity = []\n",
    "max_temperature = []\n",
    "wind_speed = []\n",
    "date = []\n",
    "\n",
    "\n",
    "\n",
    "\n",
    "#Counters\n",
    "index_counter = 0\n",
    "set_counter = 1\n",
    "\n",
    "print('-------------------------')\n",
    "print(\"Beginning Data Retrieval \")\n",
    "print('-------------------------')\n",
    "\n",
    "\n",
    "#URL\n",
    "base_url = \"http://api.openweathermap.org/data/2.5/weather?\"\n",
    "units = \"imperial\"\n",
    "query_url = f\"{base_url}appid={weather_api_key}&units={units}&q=\"\n",
    "\n",
    "\n",
    "\n",
    "#Loop to match the city names with the list of cities \n",
    "for index, city in enumerate(cities, start = 1):\n",
    "    try:\n",
    "        response = requests.get(query_url + city).json()\n",
    "        \n",
    "        \n",
    "        city_list.append(response[\"name\"])\n",
    "        country.append(response[\"sys\"][\"country\"])\n",
    "        latitude.append(response[\"coord\"][\"lat\"])\n",
    "        longitude.append(response[\"coord\"][\"lon\"])\n",
    "        \n",
    "        \n",
    "        cloud.append(response[\"clouds\"][\"all\"])\n",
    "        humidity.append(response[\"main\"][\"humidity\"])\n",
    "        max_temperature.append(response['main']['temp_max'])\n",
    "        wind_speed.append(response[\"wind\"][\"speed\"])\n",
    "        date.append(response[\"dt\"])\n",
    "        \n",
    "        \n",
    "        \n",
    "        \n",
    "        if  index_counter < 50:\n",
    "            index_counter += 1\n",
    "        else:\n",
    "            set_counter += 1\n",
    "            index_counter = 0\n",
    "        \n",
    "\n",
    "    \n",
    "        print(f\"Processing Record {index_counter} of Set {set_counter} : {city}\")\n",
    "        \n",
    "    except(KeyError, IndexError):\n",
    "        print(\"Error: No such city\")\n",
    "        \n",
    "print(\"-------------------------------\")\n",
    "print(\"Data Retrieval Complete\")\n",
    "print(\"-------------------------------\")"
   ]
  },
  {
   "cell_type": "code",
   "execution_count": null,
   "metadata": {
    "scrolled": true
   },
   "outputs": [],
   "source": []
  },
  {
   "cell_type": "markdown",
   "metadata": {},
   "source": [
    "### Convert Raw Data to DataFrame\n",
    "* Export the city data into a .csv.\n",
    "* Display the DataFrame"
   ]
  },
  {
   "cell_type": "code",
   "execution_count": 6,
   "metadata": {},
   "outputs": [
    {
     "data": {
      "text/html": [
       "<div>\n",
       "<style scoped>\n",
       "    .dataframe tbody tr th:only-of-type {\n",
       "        vertical-align: middle;\n",
       "    }\n",
       "\n",
       "    .dataframe tbody tr th {\n",
       "        vertical-align: top;\n",
       "    }\n",
       "\n",
       "    .dataframe thead th {\n",
       "        text-align: right;\n",
       "    }\n",
       "</style>\n",
       "<table border=\"1\" class=\"dataframe\">\n",
       "  <thead>\n",
       "    <tr style=\"text-align: right;\">\n",
       "      <th></th>\n",
       "      <th>City</th>\n",
       "      <th>Lat</th>\n",
       "      <th>Lng</th>\n",
       "      <th>Max Temp</th>\n",
       "      <th>Humidity</th>\n",
       "      <th>Cloudiness</th>\n",
       "      <th>Wind Speed</th>\n",
       "      <th>Country</th>\n",
       "      <th>Date</th>\n",
       "    </tr>\n",
       "  </thead>\n",
       "  <tbody>\n",
       "    <tr>\n",
       "      <th>0</th>\n",
       "      <td>Vaini</td>\n",
       "      <td>-21.2000</td>\n",
       "      <td>-175.2000</td>\n",
       "      <td>71.76</td>\n",
       "      <td>68</td>\n",
       "      <td>40</td>\n",
       "      <td>10.36</td>\n",
       "      <td>TO</td>\n",
       "      <td>1630099181</td>\n",
       "    </tr>\n",
       "    <tr>\n",
       "      <th>1</th>\n",
       "      <td>Cap Malheureux</td>\n",
       "      <td>-19.9842</td>\n",
       "      <td>57.6142</td>\n",
       "      <td>71.47</td>\n",
       "      <td>83</td>\n",
       "      <td>76</td>\n",
       "      <td>11.99</td>\n",
       "      <td>MU</td>\n",
       "      <td>1630099182</td>\n",
       "    </tr>\n",
       "    <tr>\n",
       "      <th>2</th>\n",
       "      <td>Kapaa</td>\n",
       "      <td>22.0752</td>\n",
       "      <td>-159.3190</td>\n",
       "      <td>84.52</td>\n",
       "      <td>65</td>\n",
       "      <td>40</td>\n",
       "      <td>4.00</td>\n",
       "      <td>US</td>\n",
       "      <td>1630099182</td>\n",
       "    </tr>\n",
       "    <tr>\n",
       "      <th>3</th>\n",
       "      <td>Ugoofaaru</td>\n",
       "      <td>5.6667</td>\n",
       "      <td>73.0000</td>\n",
       "      <td>82.04</td>\n",
       "      <td>77</td>\n",
       "      <td>100</td>\n",
       "      <td>13.69</td>\n",
       "      <td>MV</td>\n",
       "      <td>1630099182</td>\n",
       "    </tr>\n",
       "    <tr>\n",
       "      <th>4</th>\n",
       "      <td>Acaraú</td>\n",
       "      <td>-2.8856</td>\n",
       "      <td>-40.1200</td>\n",
       "      <td>79.63</td>\n",
       "      <td>73</td>\n",
       "      <td>51</td>\n",
       "      <td>21.34</td>\n",
       "      <td>BR</td>\n",
       "      <td>1630099183</td>\n",
       "    </tr>\n",
       "  </tbody>\n",
       "</table>\n",
       "</div>"
      ],
      "text/plain": [
       "             City      Lat       Lng  Max Temp  Humidity  Cloudiness  \\\n",
       "0           Vaini -21.2000 -175.2000     71.76        68          40   \n",
       "1  Cap Malheureux -19.9842   57.6142     71.47        83          76   \n",
       "2           Kapaa  22.0752 -159.3190     84.52        65          40   \n",
       "3       Ugoofaaru   5.6667   73.0000     82.04        77         100   \n",
       "4          Acaraú  -2.8856  -40.1200     79.63        73          51   \n",
       "\n",
       "   Wind Speed Country        Date  \n",
       "0       10.36      TO  1630099181  \n",
       "1       11.99      MU  1630099182  \n",
       "2        4.00      US  1630099182  \n",
       "3       13.69      MV  1630099182  \n",
       "4       21.34      BR  1630099183  "
      ]
     },
     "execution_count": 6,
     "metadata": {},
     "output_type": "execute_result"
    }
   ],
   "source": [
    "#Create a dataframe from the lists that were retrieved in previous step\n",
    "weather_df = pd.DataFrame(\n",
    "    {\n",
    "\"City\" : city_list, \n",
    "\"Lat\" : latitude,\n",
    "\"Lng\" : longitude,\n",
    "\"Max Temp\" : max_temperature, \n",
    "\"Humidity\" : humidity, \n",
    "\"Cloudiness\" : cloud, \n",
    "\"Wind Speed\" : wind_speed, \n",
    "\"Country\" : country,\n",
    "\"Date\" : date \n",
    "   }\n",
    ")\n",
    "weather_df.head()"
   ]
  },
  {
   "cell_type": "code",
   "execution_count": 6,
   "metadata": {},
   "outputs": [],
   "source": [
    "#Output file\n",
    "weather_df.to_csv(output_data_file,index = False)"
   ]
  },
  {
   "cell_type": "code",
   "execution_count": 16,
   "metadata": {},
   "outputs": [
    {
     "data": {
      "text/html": [
       "<div>\n",
       "<style scoped>\n",
       "    .dataframe tbody tr th:only-of-type {\n",
       "        vertical-align: middle;\n",
       "    }\n",
       "\n",
       "    .dataframe tbody tr th {\n",
       "        vertical-align: top;\n",
       "    }\n",
       "\n",
       "    .dataframe thead th {\n",
       "        text-align: right;\n",
       "    }\n",
       "</style>\n",
       "<table border=\"1\" class=\"dataframe\">\n",
       "  <thead>\n",
       "    <tr style=\"text-align: right;\">\n",
       "      <th></th>\n",
       "      <th>Lat</th>\n",
       "      <th>Lng</th>\n",
       "      <th>Max Temp</th>\n",
       "      <th>Humidity</th>\n",
       "      <th>Cloudiness</th>\n",
       "      <th>Wind Speed</th>\n",
       "      <th>Date</th>\n",
       "    </tr>\n",
       "  </thead>\n",
       "  <tbody>\n",
       "    <tr>\n",
       "      <td>count</td>\n",
       "      <td>599.000000</td>\n",
       "      <td>599.000000</td>\n",
       "      <td>599.000000</td>\n",
       "      <td>599.000000</td>\n",
       "      <td>599.000000</td>\n",
       "      <td>599.000000</td>\n",
       "      <td>5.990000e+02</td>\n",
       "    </tr>\n",
       "    <tr>\n",
       "      <td>mean</td>\n",
       "      <td>19.877028</td>\n",
       "      <td>19.568998</td>\n",
       "      <td>69.794808</td>\n",
       "      <td>69.353923</td>\n",
       "      <td>51.569282</td>\n",
       "      <td>7.979416</td>\n",
       "      <td>1.593605e+09</td>\n",
       "    </tr>\n",
       "    <tr>\n",
       "      <td>std</td>\n",
       "      <td>33.262944</td>\n",
       "      <td>91.418472</td>\n",
       "      <td>15.678452</td>\n",
       "      <td>22.704698</td>\n",
       "      <td>35.405602</td>\n",
       "      <td>5.660694</td>\n",
       "      <td>5.738815e+01</td>\n",
       "    </tr>\n",
       "    <tr>\n",
       "      <td>min</td>\n",
       "      <td>-54.800000</td>\n",
       "      <td>-179.170000</td>\n",
       "      <td>12.200000</td>\n",
       "      <td>7.000000</td>\n",
       "      <td>0.000000</td>\n",
       "      <td>0.360000</td>\n",
       "      <td>1.593605e+09</td>\n",
       "    </tr>\n",
       "    <tr>\n",
       "      <td>25%</td>\n",
       "      <td>-8.540000</td>\n",
       "      <td>-61.210000</td>\n",
       "      <td>59.000000</td>\n",
       "      <td>55.000000</td>\n",
       "      <td>20.000000</td>\n",
       "      <td>3.620000</td>\n",
       "      <td>1.593605e+09</td>\n",
       "    </tr>\n",
       "    <tr>\n",
       "      <td>50%</td>\n",
       "      <td>24.370000</td>\n",
       "      <td>24.670000</td>\n",
       "      <td>73.110000</td>\n",
       "      <td>75.000000</td>\n",
       "      <td>59.000000</td>\n",
       "      <td>6.730000</td>\n",
       "      <td>1.593605e+09</td>\n",
       "    </tr>\n",
       "    <tr>\n",
       "      <td>75%</td>\n",
       "      <td>46.585000</td>\n",
       "      <td>102.255000</td>\n",
       "      <td>80.600000</td>\n",
       "      <td>87.000000</td>\n",
       "      <td>85.000000</td>\n",
       "      <td>11.050000</td>\n",
       "      <td>1.593605e+09</td>\n",
       "    </tr>\n",
       "    <tr>\n",
       "      <td>max</td>\n",
       "      <td>78.220000</td>\n",
       "      <td>179.320000</td>\n",
       "      <td>116.600000</td>\n",
       "      <td>100.000000</td>\n",
       "      <td>100.000000</td>\n",
       "      <td>42.500000</td>\n",
       "      <td>1.593605e+09</td>\n",
       "    </tr>\n",
       "  </tbody>\n",
       "</table>\n",
       "</div>"
      ],
      "text/plain": [
       "              Lat         Lng    Max Temp    Humidity  Cloudiness  Wind Speed  \\\n",
       "count  599.000000  599.000000  599.000000  599.000000  599.000000  599.000000   \n",
       "mean    19.877028   19.568998   69.794808   69.353923   51.569282    7.979416   \n",
       "std     33.262944   91.418472   15.678452   22.704698   35.405602    5.660694   \n",
       "min    -54.800000 -179.170000   12.200000    7.000000    0.000000    0.360000   \n",
       "25%     -8.540000  -61.210000   59.000000   55.000000   20.000000    3.620000   \n",
       "50%     24.370000   24.670000   73.110000   75.000000   59.000000    6.730000   \n",
       "75%     46.585000  102.255000   80.600000   87.000000   85.000000   11.050000   \n",
       "max     78.220000  179.320000  116.600000  100.000000  100.000000   42.500000   \n",
       "\n",
       "               Date  \n",
       "count  5.990000e+02  \n",
       "mean   1.593605e+09  \n",
       "std    5.738815e+01  \n",
       "min    1.593605e+09  \n",
       "25%    1.593605e+09  \n",
       "50%    1.593605e+09  \n",
       "75%    1.593605e+09  \n",
       "max    1.593605e+09  "
      ]
     },
     "execution_count": 16,
     "metadata": {},
     "output_type": "execute_result"
    }
   ],
   "source": []
  },
  {
   "cell_type": "markdown",
   "metadata": {},
   "source": [
    "## Inspect the data and remove the cities where the humidity > 100%.\n",
    "----\n",
    "Skip this step if there are no cities that have humidity > 100%. "
   ]
  },
  {
   "cell_type": "markdown",
   "metadata": {},
   "source": [
    "## Plotting the Data\n",
    "* Use proper labeling of the plots using plot titles (including date of analysis) and axes labels.\n",
    "* Save the plotted figures as .pngs."
   ]
  },
  {
   "cell_type": "markdown",
   "metadata": {},
   "source": [
    "## Latitude vs. Temperature Plot"
   ]
  },
  {
   "cell_type": "code",
   "execution_count": 7,
   "metadata": {},
   "outputs": [
    {
     "name": "stdout",
     "output_type": "stream",
     "text": [
      " A scatter plot comparing max Temperature to Latitude\n"
     ]
    },
    {
     "data": {
      "image/png": "[encoded data removed]",
      "text/plain": [
       "<Figure size 432x288 with 1 Axes>"
      ]
     },
     "metadata": {
      "needs_background": "light"
     },
     "output_type": "display_data"
    }
   ],
   "source": [
    "#Latitude vs Temperature scatter plot\n",
    "\n",
    "plt.scatter(weather_df[\"Lat\"], weather_df[\"Max Temp\"], color = \"blue\", edgecolor = \"black\")\n",
    "plt.title(\"City Latitude vs. Max Temperature (08/25/21)\")\n",
    "plt.xlabel(\"Latitude\")\n",
    "plt.ylabel(\"Max Temperature (F)\")\n",
    "plt.grid(linestyle='-', linewidth=2, alpha=0.5)\n",
    "plt.savefig(\"../output_data_weatherpy/Lat_vs_Temp\")\n",
    "print(\" A scatter plot comparing Xax Temperature to Latitude\")"
   ]
  },
  {
   "cell_type": "markdown",
   "metadata": {},
   "source": [
    "## Latitude vs. Humidity Plot"
   ]
  },
  {
   "cell_type": "code",
   "execution_count": 8,
   "metadata": {},
   "outputs": [
    {
     "name": "stdout",
     "output_type": "stream",
     "text": [
      " A scatter plot comparing Humidity to Latitude\n"
     ]
    },
    {
     "data": {
      "image/png": "[encoded data removed]",
      "text/plain": [
       "<Figure size 432x288 with 1 Axes>"
      ]
     },
     "metadata": {
      "needs_background": "light"
     },
     "output_type": "display_data"
    }
   ],
   "source": [
    "#Latitude vs Humidity scatter plot\n",
    "\n",
    "plt.scatter(weather_df[\"Lat\"], weather_df[\"Humidity\"], color = \"blue\", edgecolor = \"black\")\n",
    "plt.title(\"City Latitude vs Humidity (08/25/21)\")\n",
    "plt.xlabel(\"Latitude\")\n",
    "plt.ylabel(\"Humidity (%)\")\n",
    "plt.grid(linestyle='-', linewidth=2, alpha=0.5)\n",
    "plt.savefig(\"../output_data_weatherpy/Lat_vs_Humdity\")\n",
    "print(\" A scatter plot comparing Humidity to Latitude\")"
   ]
  },
  {
   "cell_type": "markdown",
   "metadata": {},
   "source": [
    "## Latitude vs. Cloudiness Plot"
   ]
  },
  {
   "cell_type": "code",
   "execution_count": 9,
   "metadata": {},
   "outputs": [
    {
     "name": "stdout",
     "output_type": "stream",
     "text": [
      " A scatter plot comparing Cloudiness to Latitude\n"
     ]
    },
    {
     "data": {
      "image/png": "[encoded data removed]",
      "text/plain": [
       "<Figure size 432x288 with 1 Axes>"
      ]
     },
     "metadata": {
      "needs_background": "light"
     },
     "output_type": "display_data"
    }
   ],
   "source": [
    "#Latitude vs Humidity scatter plot\n",
    "\n",
    "plt.scatter(weather_df[\"Lat\"], weather_df[\"Cloudiness\"], color = \"blue\", edgecolor = \"black\")\n",
    "plt.title(\"City Latitude vs Cloudiness (08/25/21)\")\n",
    "plt.xlabel(\"Latitude\")\n",
    "plt.ylabel(\"Cloudiness (%)\")\n",
    "plt.grid(linestyle='-', linewidth=2, alpha=0.5)\n",
    "plt.savefig(\"../output_data_weatherpy/Lat_vs_Cloudiness\")\n",
    "print(\" A scatter plot comparing Cloudiness to Latitude\")"
   ]
  },
  {
   "cell_type": "markdown",
   "metadata": {},
   "source": [
    "## Latitude vs. Wind Speed Plot"
   ]
  },
  {
   "cell_type": "code",
   "execution_count": 10,
   "metadata": {},
   "outputs": [
    {
     "name": "stdout",
     "output_type": "stream",
     "text": [
      " A scatter plot comparing Wind Speed to Latitude\n"
     ]
    },
    {
     "data": {
      "image/png": "[encoded data removed]",
      "text/plain": [
       "<Figure size 432x288 with 1 Axes>"
      ]
     },
     "metadata": {
      "needs_background": "light"
     },
     "output_type": "display_data"
    }
   ],
   "source": [
    "#Latitude vs Humidity scatter plot\n",
    "\n",
    "plt.scatter(weather_df[\"Lat\"], weather_df[\"Wind Speed\"], color = \"blue\", edgecolor = \"black\")\n",
    "plt.title(\"City Latitude vs Wind Speed (08/25/21)\")\n",
    "plt.xlabel(\"Latitude\")\n",
    "plt.ylabel(\"Wind Speed (mph)\")\n",
    "plt.grid(linestyle='-', linewidth=2, alpha=0.5)\n",
    "plt.savefig(\"../output_data_weatherpy/Lat_vs_Wind_Speed\")\n",
    "print(\" A scatter plot comparing Wind Speed to Latitude\")"
   ]
  },
  {
   "cell_type": "markdown",
   "metadata": {},
   "source": [
    "## Linear Regression"
   ]
  },
  {
   "cell_type": "code",
   "execution_count": 13,
   "metadata": {},
   "outputs": [],
   "source": [
    "northern_hemesphire = weather_df.loc[weather_df[\"Lat\"] >= 0.0]\n",
    "northern_hemesphire.reset_index(inplace=True)\n",
    "\n",
    "southern_hemesphire = weather_df.loc[weather_df[\"Lat\"] < 0.0]\n",
    "southern_hemesphire.reset_index(inplace=True)\n",
    "\n",
    "def linear_regression_plot(xdata,ydata,x_axis,y_axis,pos_label):\n",
    "    \n",
    "    \n",
    "    (slope, intercept, rvalue, pvalue, stderr) = linregress(xdata, ydata)\n",
    "    print(f\"The r-squared is: {rvalue}\")\n",
    "    regress_values = xdata * slope + intercept\n",
    "    line_eq = \"y = \" + str(round(slope,2)) + \"x + \" + str(round(intercept,2))\n",
    "\n",
    "    plt.scatter(xdata,ydata)\n",
    "    plt.plot(xdata,regress_values,\"r-\")\n",
    "    plt.annotate(line_eq,pos_label,fontsize=15,color=\"red\")\n",
    "    plt.xlabel(x_axis)\n",
    "    plt.ylabel(y_axis)\n",
    "       "
   ]
  },
  {
   "cell_type": "markdown",
   "metadata": {},
   "source": [
    "####  Northern Hemisphere - Max Temp vs. Latitude Linear Regression"
   ]
  },
  {
   "cell_type": "code",
   "execution_count": 14,
   "metadata": {},
   "outputs": [
    {
     "name": "stdout",
     "output_type": "stream",
     "text": [
      "The r-squared is: -0.7292369640133105\n",
      "A linear regression analysis on Max Temp vs Latitude in the northern hemisphere shows a neggative correlation\n"
     ]
    },
    {
     "data": {
      "image/png": "[encoded data removed]",
      "text/plain": [
       "<Figure size 432x288 with 1 Axes>"
      ]
     },
     "metadata": {
      "needs_background": "light"
     },
     "output_type": "display_data"
    }
   ],
   "source": [
    "#Northern Hemisphere - Max Temp vs. Latitude Linear Regression\n",
    "x_axis = \"Lat\"\n",
    "y_axis = \"Max Temp\"\n",
    "pos_label = (0,25)\n",
    "linear_regression_plot(northern_hemesphire[x_axis],northern_hemesphire[y_axis],x_axis,y_axis,pos_label)\n",
    "plt.savefig(\"../output_data_weatherpy/NH_LR_Temp_vs_Lat\")\n",
    "print(\"A linear regression analysis on Max Temp vs Latitude in the northern hemisphere shows a negative correlation\")"
   ]
  },
  {
   "cell_type": "markdown",
   "metadata": {},
   "source": [
    "####  Southern Hemisphere - Max Temp vs. Latitude Linear Regression"
   ]
  },
  {
   "cell_type": "code",
   "execution_count": 15,
   "metadata": {},
   "outputs": [
    {
     "name": "stdout",
     "output_type": "stream",
     "text": [
      "The r-squared is: 0.7912109641803101\n",
      "A linear regression analysis on Max Temp vs Latitude in the Southern hemisphere shows a positive correlation\n"
     ]
    },
    {
     "data": {
      "image/png": "[encoded data removed]",
      "text/plain": [
       "<Figure size 432x288 with 1 Axes>"
      ]
     },
     "metadata": {
      "needs_background": "light"
     },
     "output_type": "display_data"
    }
   ],
   "source": [
    "#Southern Hemisphere - Max Temp vs. Latitude Linear Regression\n",
    "x_axis = \"Lat\"\n",
    "y_axis = \"Max Temp\"\n",
    "pos_label = (0,25)\n",
    "linear_regression_plot(southern_hemesphire[x_axis],southern_hemesphire[y_axis],x_axis,y_axis,pos_label)\n",
    "plt.savefig(\"../output_data_weatherpy/SH_LR_Temp_vs_Lat\")\n",
    "print(\"A linear regression analysis on Max Temp vs Latitude in the Southern hemisphere shows a positive correlation\")"
   ]
  },
  {
   "cell_type": "markdown",
   "metadata": {},
   "source": [
    "####  Northern Hemisphere - Humidity (%) vs. Latitude Linear Regression"
   ]
  },
  {
   "cell_type": "code",
   "execution_count": 16,
   "metadata": {},
   "outputs": [
    {
     "name": "stdout",
     "output_type": "stream",
     "text": [
      "The r-squared is: 0.13232457259071229\n",
      "A linear regression analysis on Humidity vs Latitude in the northern hemisphere shows a slightly positive correlation or no correlation\n"
     ]
    },
    {
     "data": {
      "image/png": "[encoded data removed]",
      "text/plain": [
       "<Figure size 432x288 with 1 Axes>"
      ]
     },
     "metadata": {
      "needs_background": "light"
     },
     "output_type": "display_data"
    }
   ],
   "source": [
    "#Northern Hemisphere - Humidity (%) vs. Latitude Linear Regression\n",
    "x_axis = \"Lat\"\n",
    "y_axis = \"Humidity\"\n",
    "pos_label = (0,25)\n",
    "linear_regression_plot(northern_hemesphire[x_axis],northern_hemesphire[y_axis],x_axis,y_axis,pos_label)\n",
    "plt.savefig(\"../output_data_weatherpy/NH_LR_Humidity_vs_Lat\")\n",
    "print(\"A linear regression analysis on Humidity vs Latitude in the northern hemisphere shows a slightly positive correlation or no correlation\")"
   ]
  },
  {
   "cell_type": "markdown",
   "metadata": {},
   "source": [
    "####  Southern Hemisphere - Humidity (%) vs. Latitude Linear Regression"
   ]
  },
  {
   "cell_type": "code",
   "execution_count": 46,
   "metadata": {},
   "outputs": [
    {
     "name": "stdout",
     "output_type": "stream",
     "text": [
      "The r-squared is: -0.028275172628522995\n"
     ]
    },
    {
     "data": {
      "image/png": "[encoded data removed]",
      "text/plain": [
       "<Figure size 432x288 with 1 Axes>"
      ]
     },
     "metadata": {
      "needs_background": "light"
     },
     "output_type": "display_data"
    }
   ],
   "source": [
    "#Southern Hemisphere - Humidity (%) vs. Latitude Linear Regression\n",
    "x_axis = \"Lat\"\n",
    "y_axis = \"Humidity\"\n",
    "pos_label = (0,25)\n",
    "linear_regression_plot(southern_hemesphire[x_axis],southern_hemesphire[y_axis],x_axis,y_axis,pos_label)\n",
    "plt.savefig(\"../output_data_weatherpy/SH_LR_Humidity_vs_Lat\")\n",
    "print(\"A linear regression analysis on Humidity vs Latitude in the Southern hemisphere shows a slightly negative correlation or no correlation\")"
   ]
  },
  {
   "cell_type": "markdown",
   "metadata": {},
   "source": [
    "####  Northern Hemisphere - Cloudiness (%) vs. Latitude Linear Regression"
   ]
  },
  {
   "cell_type": "code",
   "execution_count": 17,
   "metadata": {},
   "outputs": [
    {
     "name": "stdout",
     "output_type": "stream",
     "text": [
      "The r-squared is: -0.04844203543403333\n",
      "A linear regression analysis on Cloudiness vs Latitude in the northern hemisphere shows a slightly positive correlation or no correlation\n"
     ]
    },
    {
     "data": {
      "image/png": "[encoded data removed]",
      "text/plain": [
       "<Figure size 432x288 with 1 Axes>"
      ]
     },
     "metadata": {
      "needs_background": "light"
     },
     "output_type": "display_data"
    }
   ],
   "source": [
    "#Northern Hemisphere - Cloudiness (%) vs. Latitude Linear Regression\n",
    "x_axis = \"Lat\"\n",
    "y_axis = \"Cloudiness\"\n",
    "pos_label = (0,25)\n",
    "linear_regression_plot(northern_hemesphire[x_axis],northern_hemesphire[y_axis],x_axis,y_axis,pos_label)\n",
    "plt.savefig(\"../output_data_weatherpy/NH_LR_Cloudiness_vs_Lat\")\n",
    "print(\"A linear regression analysis on Cloudiness vs Latitude in the northern hemisphere shows a slightly positive correlation or no correlation\")"
   ]
  },
  {
   "cell_type": "markdown",
   "metadata": {},
   "source": [
    "####  Southern Hemisphere - Cloudiness (%) vs. Latitude Linear Regression"
   ]
  },
  {
   "cell_type": "code",
   "execution_count": 48,
   "metadata": {},
   "outputs": [
    {
     "name": "stdout",
     "output_type": "stream",
     "text": [
      "The r-squared is: -0.03560676316669476\n"
     ]
    },
    {
     "data": {
      "image/png": "[encoded data removed]",
      "text/plain": [
       "<Figure size 432x288 with 1 Axes>"
      ]
     },
     "metadata": {
      "needs_background": "light"
     },
     "output_type": "display_data"
    }
   ],
   "source": [
    "#Southern Hemisphere - Cloudiness (%) vs. Latitude Linear Regression\n",
    "x_axis = \"Lat\"\n",
    "y_axis = \"Cloudiness\"\n",
    "pos_label = (0,25)\n",
    "linear_regression_plot(southern_hemesphire[x_axis],southern_hemesphire[y_axis],x_axis,y_axis,pos_label)\n",
    "plt.savefig(\"../output_data_weatherpy/SH_LR_Cloudiness_vs_Lat\")\n",
    "print(\"A linear regression analysis on Cloudiness vs Latitude in the southern hemisphere shows a slightly negative correlation or no correlation\")"
   ]
  },
  {
   "cell_type": "markdown",
   "metadata": {},
   "source": [
    "####  Northern Hemisphere - Wind Speed (mph) vs. Latitude Linear Regression"
   ]
  },
  {
   "cell_type": "code",
   "execution_count": 18,
   "metadata": {},
   "outputs": [
    {
     "name": "stdout",
     "output_type": "stream",
     "text": [
      "The r-squared is: 0.07375887473820408\n",
      "A linear regression analysis on Wind Speed vs Latitude in the northern hemisphere shows a slightly positive correlation or no correlation\n"
     ]
    },
    {
     "data": {
      "image/png": "[encoded data removed]",
      "text/plain": [
       "<Figure size 432x288 with 1 Axes>"
      ]
     },
     "metadata": {
      "needs_background": "light"
     },
     "output_type": "display_data"
    }
   ],
   "source": [
    "#Northern Hemisphere - Wind Speed (mph) vs. Latitude Linear Regression\n",
    "x_axis = \"Lat\"\n",
    "y_axis = \"Wind Speed\"\n",
    "pos_label = (0,25)\n",
    "linear_regression_plot(northern_hemesphire[x_axis],northern_hemesphire[y_axis],x_axis,y_axis,pos_label)\n",
    "plt.savefig(\"../output_data_weatherpy/NH_LR_Wind_vs_Lat\")\n",
    "print(\"A linear regression analysis on Wind Speed vs Latitude in the northern hemisphere shows a slightly positive correlation or no correlation\")"
   ]
  },
  {
   "cell_type": "markdown",
   "metadata": {},
   "source": [
    "####  Southern Hemisphere - Wind Speed (mph) vs. Latitude Linear Regression"
   ]
  },
  {
   "cell_type": "code",
   "execution_count": 20,
   "metadata": {},
   "outputs": [
    {
     "name": "stdout",
     "output_type": "stream",
     "text": [
      "The r-squared is: -0.12350875642754465\n",
      "A linear regression analysis on Wind Speed vs Latitude in the southern hemisphere shows a negative correlation\n"
     ]
    },
    {
     "data": {
      "image/png": "[encoded data removed]",
      "text/plain": [
       "<Figure size 432x288 with 1 Axes>"
      ]
     },
     "metadata": {
      "needs_background": "light"
     },
     "output_type": "display_data"
    }
   ],
   "source": [
    "#Southern Hemisphere - Wind Speed (mph) vs. Latitude Linear Regression\n",
    "x_axis = \"Lat\"\n",
    "y_axis = \"Wind Speed\"\n",
    "pos_label = (0,25)\n",
    "linear_regression_plot(southern_hemesphire[x_axis],southern_hemesphire[y_axis],x_axis,y_axis,pos_label)\n",
    "plt.savefig(\"../output_data_weatherpy/SH_LR_Wind_vs_Lat\")\n",
    "print(\"A linear regression analysis on Wind Speed vs Latitude in the southern hemisphere shows a negative correlation\")"
   ]
  },
  {
   "cell_type": "code",
   "execution_count": null,
   "metadata": {},
   "outputs": [],
   "source": []
  }
 ],
 "metadata": {
  "anaconda-cloud": {},
  "kernel_info": {
   "name": "python3"
  },
  "kernelspec": {
   "display_name": "Python 3",
   "language": "python",
   "name": "python3"
  },
  "language_info": {
   "codemirror_mode": {
    "name": "ipython",
    "version": 3
   },
   "file_extension": ".py",
   "mimetype": "text/x-python",
   "name": "python",
   "nbconvert_exporter": "python",
   "pygments_lexer": "ipython3",
   "version": "3.8.8"
  },
  "latex_envs": {
   "LaTeX_envs_menu_present": true,
   "autoclose": false,
   "autocomplete": true,
   "bibliofile": "biblio.bib",
   "cite_by": "apalike",
   "current_citInitial": 1,
   "eqLabelWithNumbers": true,
   "eqNumInitial": 1,
   "hotkeys": {
    "equation": "Ctrl-E",
    "itemize": "Ctrl-I"
   },
   "labels_anchors": false,
   "latex_user_defs": false,
   "report_style_numbering": false,
   "user_envs_cfg": false
  },
  "nteract": {
   "version": "0.12.3"
  }
 },
 "nbformat": 4,
 "nbformat_minor": 2
}
