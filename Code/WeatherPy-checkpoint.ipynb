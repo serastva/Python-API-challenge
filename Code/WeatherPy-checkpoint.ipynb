{
 "cells": [
  {
   "cell_type": "markdown",
   "metadata": {},
   "source": [
    "# WeatherPy\n",
    "----\n",
    "\n",
    "#### Note\n",
    "* Instructions have been included for each segment. You do not have to follow them exactly, but they are included to help you think through the steps."
   ]
  },
  {
   "cell_type": "code",
   "execution_count": 2,
   "metadata": {
    "scrolled": true
   },
   "outputs": [],
   "source": [
    "# Dependencies and Setup\n",
    "import matplotlib.pyplot as plt\n",
    "import pandas as pd\n",
    "import numpy as np\n",
    "import requests\n",
    "import time\n",
    "from scipy.stats import linregress\n",
    "\n",
    "# Import API key\n",
    "from api_keys import weather_api_key\n",
    "\n",
    "# Incorporated citipy to determine city based on latitude and longitude\n",
    "from citipy import citipy\n",
    "\n",
    "# Output File (CSV)\n",
    "output_data_file = \"../output_data_weatherpy/cities.csv\"\n",
    "\n",
    "# Range of latitudes and longitudes\n",
    "lat_range = (-90, 90)\n",
    "lng_range = (-180, 180)"
   ]
  },
  {
   "cell_type": "markdown",
   "metadata": {},
   "source": [
    "## Generate Cities List"
   ]
  },
  {
   "cell_type": "code",
   "execution_count": 3,
   "metadata": {},
   "outputs": [
    {
     "data": {
      "text/plain": [
       "615"
      ]
     },
     "execution_count": 3,
     "metadata": {},
     "output_type": "execute_result"
    }
   ],
   "source": [
    "# List for holding lat_lngs and cities\n",
    "lat_lngs = []\n",
    "cities = []\n",
    "\n",
    "# Create a set of random lat and lng combinations\n",
    "lats = np.random.uniform(lat_range[0], lat_range[1], size=1500)\n",
    "lngs = np.random.uniform(lng_range[0], lng_range[1], size=1500)\n",
    "lat_lngs = zip(lats, lngs)\n",
    "\n",
    "# Identify nearest city for each lat, lng combination\n",
    "for lat_lng in lat_lngs:\n",
    "    city = citipy.nearest_city(lat_lng[0], lat_lng[1]).city_name\n",
    "    \n",
    "    # If the city is unique, then add it to a our cities list\n",
    "    if city not in cities:\n",
    "        cities.append(city)\n",
    "\n",
    "# Print the city count to confirm sufficient count\n",
    "len(cities)"
   ]
  },
  {
   "cell_type": "markdown",
   "metadata": {},
   "source": [
    "### Perform API Calls\n",
    "* Perform a weather check on each city using a series of successive API calls.\n",
    "* Include a print log of each city as it'sbeing processed (with the city number and city name).\n"
   ]
  },
  {
   "cell_type": "code",
   "execution_count": 4,
   "metadata": {},
   "outputs": [
    {
     "name": "stdout",
     "output_type": "stream",
     "text": [
      "-------------------------\n",
      "Beginning Data Retrieval \n",
      "-------------------------\n",
      "Processing Record 1 of Set 1 : bambous virieux\n",
      "Error: No such city\n",
      "Processing Record 2 of Set 1 : trinidad\n",
      "Processing Record 3 of Set 1 : qaanaaq\n",
      "Processing Record 4 of Set 1 : haverfordwest\n",
      "Error: No such city\n",
      "Processing Record 5 of Set 1 : port alfred\n",
      "Processing Record 6 of Set 1 : rikitea\n",
      "Processing Record 7 of Set 1 : aripuana\n",
      "Processing Record 8 of Set 1 : maturin\n",
      "Processing Record 9 of Set 1 : hermanus\n",
      "Processing Record 10 of Set 1 : awjilah\n",
      "Processing Record 11 of Set 1 : arlit\n",
      "Processing Record 12 of Set 1 : faya\n",
      "Processing Record 13 of Set 1 : manavalakurichi\n",
      "Processing Record 14 of Set 1 : punta arenas\n",
      "Processing Record 15 of Set 1 : iqaluit\n",
      "Processing Record 16 of Set 1 : kununurra\n",
      "Error: No such city\n",
      "Processing Record 17 of Set 1 : vardo\n",
      "Processing Record 18 of Set 1 : muroto\n",
      "Processing Record 19 of Set 1 : avarua\n",
      "Processing Record 20 of Set 1 : parkes\n",
      "Processing Record 21 of Set 1 : namibe\n",
      "Processing Record 22 of Set 1 : vanimo\n",
      "Processing Record 23 of Set 1 : bubaque\n",
      "Processing Record 24 of Set 1 : hofn\n",
      "Processing Record 25 of Set 1 : saint-philippe\n",
      "Error: No such city\n",
      "Processing Record 26 of Set 1 : khatanga\n",
      "Processing Record 27 of Set 1 : ketchikan\n",
      "Processing Record 28 of Set 1 : hithadhoo\n",
      "Error: No such city\n",
      "Processing Record 29 of Set 1 : dikson\n",
      "Processing Record 30 of Set 1 : atar\n",
      "Processing Record 31 of Set 1 : lasa\n",
      "Processing Record 32 of Set 1 : upernavik\n",
      "Processing Record 33 of Set 1 : prince rupert\n",
      "Processing Record 34 of Set 1 : savannah bight\n",
      "Processing Record 35 of Set 1 : barrow\n",
      "Processing Record 36 of Set 1 : bluff\n",
      "Processing Record 37 of Set 1 : busselton\n",
      "Processing Record 38 of Set 1 : sioux lookout\n",
      "Processing Record 39 of Set 1 : fairbanks\n",
      "Processing Record 40 of Set 1 : hurghada\n",
      "Processing Record 41 of Set 1 : ushuaia\n",
      "Processing Record 42 of Set 1 : mitu\n",
      "Processing Record 43 of Set 1 : gorele\n",
      "Processing Record 44 of Set 1 : souillac\n",
      "Processing Record 45 of Set 1 : moa\n",
      "Processing Record 46 of Set 1 : east london\n",
      "Processing Record 47 of Set 1 : port blair\n",
      "Processing Record 48 of Set 1 : dalvik\n",
      "Error: No such city\n",
      "Processing Record 49 of Set 1 : high rock\n",
      "Processing Record 50 of Set 1 : villavicencio\n",
      "Processing Record 0 of Set 2 : port elizabeth\n",
      "Processing Record 1 of Set 2 : nikolskoye\n",
      "Processing Record 2 of Set 2 : serik\n",
      "Processing Record 3 of Set 2 : vaini\n",
      "Processing Record 4 of Set 2 : pasighat\n",
      "Processing Record 5 of Set 2 : atuona\n",
      "Processing Record 6 of Set 2 : ous\n",
      "Processing Record 7 of Set 2 : yellowknife\n",
      "Processing Record 8 of Set 2 : bathsheba\n",
      "Processing Record 9 of Set 2 : albany\n",
      "Processing Record 10 of Set 2 : rivadavia\n",
      "Processing Record 11 of Set 2 : leningradskiy\n",
      "Processing Record 12 of Set 2 : impfondo\n",
      "Processing Record 13 of Set 2 : krasnoselkup\n",
      "Processing Record 14 of Set 2 : bredasdorp\n",
      "Processing Record 15 of Set 2 : tuktoyaktuk\n",
      "Processing Record 16 of Set 2 : saint-pierre\n",
      "Processing Record 17 of Set 2 : chuy\n",
      "Processing Record 18 of Set 2 : kharp\n",
      "Processing Record 19 of Set 2 : nahrin\n",
      "Processing Record 20 of Set 2 : quatre cocos\n",
      "Processing Record 21 of Set 2 : butaritari\n",
      "Processing Record 22 of Set 2 : hobart\n",
      "Processing Record 23 of Set 2 : roebourne\n",
      "Processing Record 24 of Set 2 : ucluelet\n",
      "Processing Record 25 of Set 2 : kruisfontein\n",
      "Processing Record 26 of Set 2 : longyearbyen\n",
      "Processing Record 27 of Set 2 : margate\n",
      "Processing Record 28 of Set 2 : antofagasta\n",
      "Processing Record 29 of Set 2 : sinnamary\n",
      "Processing Record 30 of Set 2 : coihaique\n",
      "Processing Record 31 of Set 2 : arona\n",
      "Processing Record 32 of Set 2 : arraial do cabo\n",
      "Processing Record 33 of Set 2 : norman wells\n",
      "Processing Record 34 of Set 2 : hilo\n",
      "Processing Record 35 of Set 2 : avera\n",
      "Processing Record 36 of Set 2 : kudahuvadhoo\n",
      "Processing Record 37 of Set 2 : lianzhou\n",
      "Processing Record 38 of Set 2 : dubti\n",
      "Processing Record 39 of Set 2 : churapcha\n",
      "Error: No such city\n",
      "Processing Record 40 of Set 2 : nome\n",
      "Processing Record 41 of Set 2 : mataura\n",
      "Processing Record 42 of Set 2 : thompson\n",
      "Processing Record 43 of Set 2 : yakeshi\n",
      "Processing Record 44 of Set 2 : bethel\n",
      "Processing Record 45 of Set 2 : buraydah\n",
      "Error: No such city\n",
      "Processing Record 46 of Set 2 : torbay\n",
      "Processing Record 47 of Set 2 : mar del plata\n",
      "Processing Record 48 of Set 2 : macamic\n",
      "Processing Record 49 of Set 2 : vao\n",
      "Processing Record 50 of Set 2 : dukat\n",
      "Processing Record 0 of Set 3 : petatlan\n",
      "Processing Record 1 of Set 3 : lebork\n",
      "Processing Record 2 of Set 3 : hami\n",
      "Processing Record 3 of Set 3 : esperance\n",
      "Processing Record 4 of Set 3 : lodja\n",
      "Processing Record 5 of Set 3 : panama city\n",
      "Processing Record 6 of Set 3 : lebu\n",
      "Processing Record 7 of Set 3 : varena\n",
      "Processing Record 8 of Set 3 : acapulco\n",
      "Processing Record 9 of Set 3 : airai\n",
      "Processing Record 10 of Set 3 : takoradi\n",
      "Processing Record 11 of Set 3 : castro\n",
      "Processing Record 12 of Set 3 : gamba\n",
      "Processing Record 13 of Set 3 : lysyye gory\n",
      "Error: No such city\n",
      "Processing Record 14 of Set 3 : lavrentiya\n",
      "Processing Record 15 of Set 3 : muborak\n",
      "Processing Record 16 of Set 3 : opelousas\n",
      "Processing Record 17 of Set 3 : puerto ayora\n",
      "Processing Record 18 of Set 3 : aklavik\n",
      "Processing Record 19 of Set 3 : constitucion\n",
      "Processing Record 20 of Set 3 : tura\n",
      "Processing Record 21 of Set 3 : languyan\n",
      "Error: No such city\n",
      "Processing Record 22 of Set 3 : laurel\n",
      "Processing Record 23 of Set 3 : shirokiy\n",
      "Processing Record 24 of Set 3 : sola\n",
      "Processing Record 25 of Set 3 : carnarvon\n",
      "Processing Record 26 of Set 3 : salalah\n",
      "Processing Record 27 of Set 3 : acarau\n",
      "Processing Record 28 of Set 3 : tasiilaq\n",
      "Processing Record 29 of Set 3 : boende\n",
      "Error: No such city\n",
      "Processing Record 30 of Set 3 : lieksa\n",
      "Processing Record 31 of Set 3 : hambantota\n",
      "Processing Record 32 of Set 3 : loreto\n",
      "Processing Record 33 of Set 3 : hamilton\n",
      "Processing Record 34 of Set 3 : portland\n",
      "Error: No such city\n",
      "Processing Record 35 of Set 3 : vanavara\n",
      "Error: No such city\n",
      "Processing Record 36 of Set 3 : karratha\n",
      "Processing Record 37 of Set 3 : hay river\n",
      "Processing Record 38 of Set 3 : dunedin\n",
      "Error: No such city\n",
      "Processing Record 39 of Set 3 : nioki\n",
      "Processing Record 40 of Set 3 : bijar\n",
      "Processing Record 41 of Set 3 : namatanai\n",
      "Error: No such city\n",
      "Processing Record 42 of Set 3 : kavieng\n",
      "Processing Record 43 of Set 3 : yerbogachen\n",
      "Processing Record 44 of Set 3 : mercedes\n",
      "Processing Record 45 of Set 3 : caravelas\n",
      "Processing Record 46 of Set 3 : narsaq\n",
      "Error: No such city\n",
      "Processing Record 47 of Set 3 : strezhevoy\n",
      "Processing Record 48 of Set 3 : abha\n",
      "Processing Record 49 of Set 3 : qasigiannguit\n",
      "Processing Record 50 of Set 3 : meulaboh\n",
      "Processing Record 0 of Set 4 : ancud\n",
      "Processing Record 1 of Set 4 : oranjemund\n",
      "Processing Record 2 of Set 4 : kapaa\n",
      "Processing Record 3 of Set 4 : dillon\n",
      "Processing Record 4 of Set 4 : fort pierce\n",
      "Processing Record 5 of Set 4 : barashevo\n",
      "Processing Record 6 of Set 4 : waddan\n",
      "Processing Record 7 of Set 4 : faanui\n",
      "Processing Record 8 of Set 4 : hailar\n",
      "Processing Record 9 of Set 4 : shetpe\n",
      "Processing Record 10 of Set 4 : nizhniy kuranakh\n",
      "Processing Record 11 of Set 4 : san vicente\n",
      "Processing Record 12 of Set 4 : husavik\n",
      "Processing Record 13 of Set 4 : codrington\n",
      "Error: No such city\n",
      "Processing Record 14 of Set 4 : new norfolk\n",
      "Processing Record 15 of Set 4 : lannion\n",
      "Processing Record 16 of Set 4 : chokurdakh\n",
      "Processing Record 17 of Set 4 : wahiawa\n",
      "Processing Record 18 of Set 4 : oktyabrskiy\n",
      "Processing Record 19 of Set 4 : waipawa\n",
      "Processing Record 20 of Set 4 : vila franca do campo\n",
      "Processing Record 21 of Set 4 : mapiripan\n",
      "Processing Record 22 of Set 4 : bardiyah\n",
      "Processing Record 23 of Set 4 : sakakah\n",
      "Processing Record 24 of Set 4 : ostrovnoy\n",
      "Processing Record 25 of Set 4 : saldanha\n",
      "Processing Record 26 of Set 4 : ofunato\n",
      "Processing Record 27 of Set 4 : kodiak\n",
      "Processing Record 28 of Set 4 : san-pedro\n",
      "Processing Record 29 of Set 4 : xiuyan\n",
      "Processing Record 30 of Set 4 : tabou\n",
      "Processing Record 31 of Set 4 : kutum\n",
      "Processing Record 32 of Set 4 : dianalund\n",
      "Error: No such city\n",
      "Processing Record 33 of Set 4 : sao filipe\n",
      "Processing Record 34 of Set 4 : ponta do sol\n",
      "Processing Record 35 of Set 4 : belyy yar\n",
      "Processing Record 36 of Set 4 : otofuke\n",
      "Processing Record 37 of Set 4 : saskylakh\n"
     ]
    },
    {
     "name": "stdout",
     "output_type": "stream",
     "text": [
      "Processing Record 38 of Set 4 : karabuk\n",
      "Processing Record 39 of Set 4 : ixtapa\n",
      "Error: No such city\n",
      "Processing Record 40 of Set 4 : dilla\n",
      "Processing Record 41 of Set 4 : renqiu\n",
      "Processing Record 42 of Set 4 : pevek\n",
      "Processing Record 43 of Set 4 : christchurch\n",
      "Error: No such city\n",
      "Processing Record 44 of Set 4 : georgetown\n",
      "Processing Record 45 of Set 4 : ponta delgada\n",
      "Processing Record 46 of Set 4 : anadyr\n",
      "Processing Record 47 of Set 4 : mangrol\n",
      "Processing Record 48 of Set 4 : szczytno\n",
      "Processing Record 49 of Set 4 : cape town\n",
      "Processing Record 50 of Set 4 : victoria\n",
      "Processing Record 0 of Set 5 : ribeira grande\n",
      "Processing Record 1 of Set 5 : bambanglipuro\n",
      "Processing Record 2 of Set 5 : provideniya\n",
      "Processing Record 3 of Set 5 : yagoua\n",
      "Processing Record 4 of Set 5 : lisala\n",
      "Processing Record 5 of Set 5 : julio de castilhos\n",
      "Processing Record 6 of Set 5 : jamestown\n",
      "Processing Record 7 of Set 5 : clyde river\n",
      "Processing Record 8 of Set 5 : marawi\n",
      "Processing Record 9 of Set 5 : bam\n",
      "Processing Record 10 of Set 5 : gold coast\n",
      "Processing Record 11 of Set 5 : hohhot\n",
      "Processing Record 12 of Set 5 : rayachoti\n",
      "Processing Record 13 of Set 5 : wanning\n",
      "Processing Record 14 of Set 5 : srednekolymsk\n",
      "Processing Record 15 of Set 5 : nouadhibou\n",
      "Processing Record 16 of Set 5 : bontang\n",
      "Error: No such city\n",
      "Processing Record 17 of Set 5 : nova olimpia\n",
      "Processing Record 18 of Set 5 : sorland\n",
      "Processing Record 19 of Set 5 : gilbues\n",
      "Processing Record 20 of Set 5 : rio gallegos\n",
      "Processing Record 21 of Set 5 : mount gambier\n",
      "Processing Record 22 of Set 5 : kitgum\n",
      "Processing Record 23 of Set 5 : dawson creek\n",
      "Processing Record 24 of Set 5 : riyadh\n",
      "Processing Record 25 of Set 5 : klaksvik\n",
      "Processing Record 26 of Set 5 : bay saint louis\n",
      "Processing Record 27 of Set 5 : durango\n",
      "Error: No such city\n",
      "Processing Record 28 of Set 5 : denia\n",
      "Processing Record 29 of Set 5 : kaeo\n",
      "Processing Record 30 of Set 5 : najran\n",
      "Processing Record 31 of Set 5 : yulara\n",
      "Processing Record 32 of Set 5 : batsfjord\n",
      "Processing Record 33 of Set 5 : college\n",
      "Error: No such city\n",
      "Processing Record 34 of Set 5 : kwinana\n",
      "Processing Record 35 of Set 5 : meget\n",
      "Processing Record 36 of Set 5 : harper\n",
      "Processing Record 37 of Set 5 : ilulissat\n",
      "Processing Record 38 of Set 5 : yar-sale\n",
      "Processing Record 39 of Set 5 : calama\n",
      "Processing Record 40 of Set 5 : skogn\n",
      "Processing Record 41 of Set 5 : yanam\n",
      "Error: No such city\n",
      "Processing Record 42 of Set 5 : brae\n",
      "Processing Record 43 of Set 5 : itoman\n",
      "Error: No such city\n",
      "Processing Record 44 of Set 5 : vryburg\n",
      "Processing Record 45 of Set 5 : vallenar\n",
      "Error: No such city\n",
      "Processing Record 46 of Set 5 : port hardy\n",
      "Processing Record 47 of Set 5 : kharan\n",
      "Processing Record 48 of Set 5 : te anau\n",
      "Processing Record 49 of Set 5 : walvis bay\n",
      "Processing Record 50 of Set 5 : valparaiso\n",
      "Processing Record 0 of Set 6 : ust-ordynskiy\n",
      "Processing Record 1 of Set 6 : turbat\n",
      "Error: No such city\n",
      "Error: No such city\n",
      "Processing Record 2 of Set 6 : krasnyy chikoy\n",
      "Processing Record 3 of Set 6 : russell\n",
      "Processing Record 4 of Set 6 : hasaki\n",
      "Processing Record 5 of Set 6 : kijang\n",
      "Processing Record 6 of Set 6 : staryy nadym\n",
      "Error: No such city\n",
      "Processing Record 7 of Set 6 : mitsamiouli\n",
      "Processing Record 8 of Set 6 : kurilsk\n",
      "Processing Record 9 of Set 6 : adrar\n",
      "Processing Record 10 of Set 6 : kislyakovskaya\n",
      "Processing Record 11 of Set 6 : khandyga\n",
      "Processing Record 12 of Set 6 : labuhan\n",
      "Processing Record 13 of Set 6 : sharjah\n",
      "Processing Record 14 of Set 6 : sol-iletsk\n",
      "Processing Record 15 of Set 6 : roald\n",
      "Processing Record 16 of Set 6 : tiksi\n",
      "Processing Record 17 of Set 6 : lexington-fayette\n",
      "Processing Record 18 of Set 6 : zalantun\n",
      "Processing Record 19 of Set 6 : perry\n",
      "Processing Record 20 of Set 6 : falanna\n",
      "Processing Record 21 of Set 6 : maceio\n",
      "Processing Record 22 of Set 6 : wau\n",
      "Processing Record 23 of Set 6 : lahaina\n",
      "Error: No such city\n",
      "Processing Record 24 of Set 6 : porvoo\n",
      "Processing Record 25 of Set 6 : puerto baquerizo moreno\n",
      "Processing Record 26 of Set 6 : filingue\n",
      "Processing Record 27 of Set 6 : shushtar\n",
      "Processing Record 28 of Set 6 : geraldton\n",
      "Error: No such city\n",
      "Error: No such city\n",
      "Processing Record 29 of Set 6 : wuxi\n",
      "Processing Record 30 of Set 6 : maniitsoq\n",
      "Processing Record 31 of Set 6 : svetlogorsk\n",
      "Processing Record 32 of Set 6 : raga\n",
      "Processing Record 33 of Set 6 : cockburn town\n",
      "Processing Record 34 of Set 6 : mahebourg\n",
      "Processing Record 35 of Set 6 : olinala\n",
      "Processing Record 36 of Set 6 : lompoc\n",
      "Processing Record 37 of Set 6 : bridlington\n",
      "Processing Record 38 of Set 6 : bonavista\n",
      "Processing Record 39 of Set 6 : belmonte\n",
      "Processing Record 40 of Set 6 : severo-kurilsk\n",
      "Processing Record 41 of Set 6 : berlevag\n",
      "Processing Record 42 of Set 6 : padang\n",
      "Processing Record 43 of Set 6 : malysheva\n",
      "Processing Record 44 of Set 6 : marfino\n",
      "Processing Record 45 of Set 6 : oktyabrskoye\n",
      "Processing Record 46 of Set 6 : caraballeda\n",
      "Processing Record 47 of Set 6 : umm lajj\n",
      "Processing Record 48 of Set 6 : isangel\n",
      "Processing Record 49 of Set 6 : san patricio\n",
      "Error: No such city\n",
      "Processing Record 50 of Set 6 : port lincoln\n",
      "Processing Record 0 of Set 7 : mayumba\n",
      "Processing Record 1 of Set 7 : half moon bay\n",
      "Error: No such city\n",
      "Processing Record 2 of Set 7 : virginia beach\n",
      "Processing Record 3 of Set 7 : schruns\n",
      "Processing Record 4 of Set 7 : mackay\n",
      "Processing Record 5 of Set 7 : san cristobal\n",
      "Processing Record 6 of Set 7 : thap than\n",
      "Processing Record 7 of Set 7 : liancheng\n",
      "Processing Record 8 of Set 7 : redmond\n",
      "Processing Record 9 of Set 7 : okhotsk\n",
      "Processing Record 10 of Set 7 : makakilo city\n",
      "Processing Record 11 of Set 7 : marzuq\n",
      "Error: No such city\n",
      "Processing Record 12 of Set 7 : santa rosa\n",
      "Processing Record 13 of Set 7 : rabak\n",
      "Processing Record 14 of Set 7 : kaitangata\n",
      "Processing Record 15 of Set 7 : gornopravdinsk\n",
      "Processing Record 16 of Set 7 : slave lake\n",
      "Processing Record 17 of Set 7 : ferrol\n",
      "Processing Record 18 of Set 7 : armeria\n",
      "Processing Record 19 of Set 7 : barabinsk\n",
      "Error: No such city\n",
      "Processing Record 20 of Set 7 : lake city\n",
      "Processing Record 21 of Set 7 : samarai\n",
      "Processing Record 22 of Set 7 : san juan\n",
      "Processing Record 23 of Set 7 : cunha\n",
      "Processing Record 24 of Set 7 : general roca\n",
      "Processing Record 25 of Set 7 : songkhla\n",
      "Processing Record 26 of Set 7 : caconda\n",
      "Processing Record 27 of Set 7 : tocache\n",
      "Processing Record 28 of Set 7 : jinxiang\n",
      "Error: No such city\n",
      "Processing Record 29 of Set 7 : trelew\n",
      "Processing Record 30 of Set 7 : alyangula\n",
      "Processing Record 31 of Set 7 : outlook\n",
      "Processing Record 32 of Set 7 : shenjiamen\n",
      "Processing Record 33 of Set 7 : dingle\n",
      "Processing Record 34 of Set 7 : nagua\n",
      "Processing Record 35 of Set 7 : luderitz\n",
      "Error: No such city\n",
      "Processing Record 36 of Set 7 : mecca\n",
      "Processing Record 37 of Set 7 : novouzensk\n",
      "Processing Record 38 of Set 7 : port macquarie\n",
      "Processing Record 39 of Set 7 : yantal\n",
      "Processing Record 40 of Set 7 : tirano\n",
      "Processing Record 41 of Set 7 : itarantim\n",
      "Processing Record 42 of Set 7 : saint george\n",
      "Processing Record 43 of Set 7 : westport\n",
      "Processing Record 44 of Set 7 : keetmanshoop\n",
      "Processing Record 45 of Set 7 : dharchula\n",
      "Processing Record 46 of Set 7 : longyan\n",
      "Processing Record 47 of Set 7 : male\n",
      "Processing Record 48 of Set 7 : esmeraldas\n",
      "Processing Record 49 of Set 7 : roros\n",
      "Processing Record 50 of Set 7 : port pirie\n",
      "Processing Record 0 of Set 8 : voh\n",
      "Processing Record 1 of Set 8 : fort nelson\n",
      "Processing Record 2 of Set 8 : coquimbo\n",
      "Processing Record 3 of Set 8 : lexington\n",
      "Error: No such city\n",
      "Processing Record 4 of Set 8 : bismarck\n",
      "Processing Record 5 of Set 8 : nioro\n",
      "Processing Record 6 of Set 8 : kiunga\n",
      "Processing Record 7 of Set 8 : port-gentil\n",
      "Processing Record 8 of Set 8 : turayf\n",
      "Processing Record 9 of Set 8 : pisco\n",
      "Error: No such city\n",
      "Processing Record 10 of Set 8 : gobabis\n",
      "Processing Record 11 of Set 8 : bilibino\n",
      "Processing Record 12 of Set 8 : kirakira\n",
      "Processing Record 13 of Set 8 : denpasar\n",
      "Processing Record 14 of Set 8 : bulawayo\n",
      "Processing Record 15 of Set 8 : bundaberg\n",
      "Processing Record 16 of Set 8 : smithers\n",
      "Processing Record 17 of Set 8 : chicama\n",
      "Processing Record 18 of Set 8 : tapah\n",
      "Processing Record 19 of Set 8 : vila do maio\n",
      "Processing Record 20 of Set 8 : talcahuano\n",
      "Processing Record 21 of Set 8 : cabo san lucas\n",
      "Processing Record 22 of Set 8 : buritis\n"
     ]
    },
    {
     "name": "stdout",
     "output_type": "stream",
     "text": [
      "Processing Record 23 of Set 8 : french harbor\n",
      "Processing Record 24 of Set 8 : sao joao da barra\n",
      "Processing Record 25 of Set 8 : san quintin\n",
      "Processing Record 26 of Set 8 : sisimiut\n",
      "Processing Record 27 of Set 8 : chengam\n",
      "Processing Record 28 of Set 8 : bridgetown\n",
      "Processing Record 29 of Set 8 : talnakh\n",
      "Processing Record 30 of Set 8 : saint-augustin\n",
      "Processing Record 31 of Set 8 : panan\n",
      "Processing Record 32 of Set 8 : alofi\n",
      "Processing Record 33 of Set 8 : santa ana\n",
      "Processing Record 34 of Set 8 : xinqing\n",
      "Processing Record 35 of Set 8 : wilmington\n",
      "Processing Record 36 of Set 8 : mataram\n",
      "Processing Record 37 of Set 8 : plettenberg bay\n",
      "Processing Record 38 of Set 8 : olafsvik\n",
      "Processing Record 39 of Set 8 : fortuna\n",
      "Processing Record 40 of Set 8 : moultonborough\n",
      "Error: No such city\n",
      "Processing Record 41 of Set 8 : sao miguel do araguaia\n",
      "Error: No such city\n",
      "Processing Record 42 of Set 8 : nuevo laredo\n",
      "Processing Record 43 of Set 8 : fernandina beach\n",
      "Processing Record 44 of Set 8 : tvoroyri\n",
      "Processing Record 45 of Set 8 : northam\n",
      "Processing Record 46 of Set 8 : port augusta\n",
      "Processing Record 47 of Set 8 : nishihara\n",
      "Processing Record 48 of Set 8 : aleysk\n",
      "Processing Record 49 of Set 8 : mildura\n",
      "Processing Record 50 of Set 8 : alpena\n",
      "Processing Record 0 of Set 9 : dickinson\n",
      "Processing Record 1 of Set 9 : naze\n",
      "Error: No such city\n",
      "Processing Record 2 of Set 9 : mehamn\n",
      "Processing Record 3 of Set 9 : launceston\n",
      "Processing Record 4 of Set 9 : rudnya\n",
      "Processing Record 5 of Set 9 : havelock\n",
      "Processing Record 6 of Set 9 : krasnyy klyuch\n",
      "Processing Record 7 of Set 9 : ossora\n",
      "Processing Record 8 of Set 9 : korla\n",
      "Processing Record 9 of Set 9 : nijar\n",
      "Error: No such city\n",
      "Processing Record 10 of Set 9 : pedernales\n",
      "Processing Record 11 of Set 9 : lorengau\n",
      "Processing Record 12 of Set 9 : bilma\n",
      "Processing Record 13 of Set 9 : una\n",
      "Processing Record 14 of Set 9 : touros\n",
      "Error: No such city\n",
      "Processing Record 15 of Set 9 : chunhuhub\n",
      "Processing Record 16 of Set 9 : kimbe\n",
      "Processing Record 17 of Set 9 : huarmey\n",
      "Processing Record 18 of Set 9 : brownfield\n",
      "Processing Record 19 of Set 9 : sitka\n",
      "Processing Record 20 of Set 9 : zhigansk\n",
      "Processing Record 21 of Set 9 : hare bay\n",
      "Processing Record 22 of Set 9 : pontian kecil\n",
      "Processing Record 23 of Set 9 : ferry pass\n",
      "Processing Record 24 of Set 9 : oshawa\n",
      "Processing Record 25 of Set 9 : derzhavinsk\n",
      "Processing Record 26 of Set 9 : jeremie\n",
      "Processing Record 27 of Set 9 : valleyview\n",
      "Processing Record 28 of Set 9 : talara\n",
      "Error: No such city\n",
      "Processing Record 29 of Set 9 : byron bay\n",
      "Processing Record 30 of Set 9 : konstantinovka\n",
      "Processing Record 31 of Set 9 : okha\n",
      "Processing Record 32 of Set 9 : vostok\n",
      "Processing Record 33 of Set 9 : villarrobledo\n",
      "Processing Record 34 of Set 9 : farafangana\n",
      "Processing Record 35 of Set 9 : teknaf\n",
      "Processing Record 36 of Set 9 : belluno\n",
      "Processing Record 37 of Set 9 : homer\n",
      "Processing Record 38 of Set 9 : ormara\n",
      "Processing Record 39 of Set 9 : hualmay\n",
      "Error: No such city\n",
      "Error: No such city\n",
      "Processing Record 40 of Set 9 : rumoi\n",
      "Processing Record 41 of Set 9 : queimadas\n",
      "Processing Record 42 of Set 9 : klamath falls\n",
      "Processing Record 43 of Set 9 : los llanos de aridane\n",
      "Processing Record 44 of Set 9 : la paz\n",
      "Processing Record 45 of Set 9 : mozhga\n",
      "Error: No such city\n",
      "Processing Record 46 of Set 9 : strelka\n",
      "Processing Record 47 of Set 9 : bazarnyy syzgan\n",
      "Processing Record 48 of Set 9 : xam nua\n",
      "Processing Record 49 of Set 9 : king city\n",
      "Processing Record 50 of Set 9 : la sarre\n",
      "Processing Record 0 of Set 10 : huntington\n",
      "Processing Record 1 of Set 10 : fernie\n",
      "Processing Record 2 of Set 10 : carnot\n",
      "Processing Record 3 of Set 10 : poum\n",
      "Processing Record 4 of Set 10 : mahanoro\n",
      "Processing Record 5 of Set 10 : manggar\n",
      "Processing Record 6 of Set 10 : bukama\n",
      "Processing Record 7 of Set 10 : surgut\n",
      "Processing Record 8 of Set 10 : lufilufi\n",
      "Error: No such city\n",
      "Processing Record 9 of Set 10 : nandurbar\n",
      "Processing Record 10 of Set 10 : nelson bay\n",
      "Processing Record 11 of Set 10 : pavilosta\n",
      "Processing Record 12 of Set 10 : sept-iles\n",
      "Processing Record 13 of Set 10 : tynda\n",
      "Processing Record 14 of Set 10 : mayo\n",
      "Processing Record 15 of Set 10 : salinopolis\n",
      "Processing Record 16 of Set 10 : horsham\n",
      "Processing Record 17 of Set 10 : campoverde\n",
      "Processing Record 18 of Set 10 : jalpan\n",
      "Processing Record 19 of Set 10 : iguai\n",
      "Processing Record 20 of Set 10 : cidreira\n",
      "Processing Record 21 of Set 10 : pangnirtung\n",
      "Processing Record 22 of Set 10 : lyudinovo\n",
      "Processing Record 23 of Set 10 : wiwili\n",
      "Processing Record 24 of Set 10 : taloda\n",
      "Processing Record 25 of Set 10 : tutoia\n",
      "Processing Record 26 of Set 10 : mae chan\n",
      "Processing Record 27 of Set 10 : coahuayana\n",
      "Processing Record 28 of Set 10 : voyvozh\n",
      "Processing Record 29 of Set 10 : konosha\n",
      "Processing Record 30 of Set 10 : yabrud\n",
      "Processing Record 31 of Set 10 : gizo\n",
      "Processing Record 32 of Set 10 : tashir\n",
      "Processing Record 33 of Set 10 : goundam\n",
      "Processing Record 34 of Set 10 : vilhena\n",
      "Processing Record 35 of Set 10 : luanda\n",
      "Processing Record 36 of Set 10 : kavaratti\n",
      "Processing Record 37 of Set 10 : asfi\n",
      "Processing Record 38 of Set 10 : atambua\n",
      "Processing Record 39 of Set 10 : mtsamboro\n",
      "Processing Record 40 of Set 10 : santa cruz\n",
      "Processing Record 41 of Set 10 : burgeo\n",
      "Error: No such city\n",
      "Error: No such city\n",
      "Processing Record 42 of Set 10 : lubbock\n",
      "Processing Record 43 of Set 10 : celestun\n",
      "Processing Record 44 of Set 10 : maneadero\n",
      "Error: No such city\n",
      "Processing Record 45 of Set 10 : ginir\n",
      "Processing Record 46 of Set 10 : isilkul\n",
      "Processing Record 47 of Set 10 : katsuura\n",
      "Processing Record 48 of Set 10 : ueda\n",
      "Processing Record 49 of Set 10 : massaguet\n",
      "Processing Record 50 of Set 10 : tuatapere\n",
      "Processing Record 0 of Set 11 : paracuru\n",
      "Processing Record 1 of Set 11 : usvyaty\n",
      "Error: No such city\n",
      "Processing Record 2 of Set 11 : siero\n",
      "Processing Record 3 of Set 11 : flinders\n",
      "Processing Record 4 of Set 11 : luangwa\n",
      "Processing Record 5 of Set 11 : san isidro\n",
      "Processing Record 6 of Set 11 : long beach\n",
      "Processing Record 7 of Set 11 : vila\n",
      "Processing Record 8 of Set 11 : santa fe\n",
      "Processing Record 9 of Set 11 : broome\n",
      "Processing Record 10 of Set 11 : kushiro\n",
      "Processing Record 11 of Set 11 : ahipara\n",
      "Processing Record 12 of Set 11 : semme\n",
      "Processing Record 13 of Set 11 : cruzeiro do sul\n",
      "Processing Record 14 of Set 11 : tomatlan\n",
      "Processing Record 15 of Set 11 : pierre\n",
      "Processing Record 16 of Set 11 : shipunovo\n",
      "Processing Record 17 of Set 11 : amantea\n",
      "Processing Record 18 of Set 11 : francisco beltrao\n",
      "Processing Record 19 of Set 11 : yeppoon\n",
      "Processing Record 20 of Set 11 : farah\n",
      "Processing Record 21 of Set 11 : hanzhong\n",
      "Processing Record 22 of Set 11 : rawson\n",
      "Processing Record 23 of Set 11 : bitung\n",
      "Processing Record 24 of Set 11 : abalak\n",
      "Processing Record 25 of Set 11 : weligama\n",
      "Processing Record 26 of Set 11 : kaohsiung\n",
      "Processing Record 27 of Set 11 : cherskiy\n",
      "Processing Record 28 of Set 11 : tondano\n",
      "Processing Record 29 of Set 11 : puerto narino\n",
      "Processing Record 30 of Set 11 : pacific grove\n",
      "Processing Record 31 of Set 11 : camacha\n",
      "Processing Record 32 of Set 11 : north bend\n",
      "Processing Record 33 of Set 11 : boddam\n",
      "Processing Record 34 of Set 11 : nakhon phanom\n",
      "Processing Record 35 of Set 11 : chipinge\n",
      "Error: No such city\n",
      "Processing Record 36 of Set 11 : richards bay\n",
      "Processing Record 37 of Set 11 : pho chai\n",
      "Processing Record 38 of Set 11 : clarence town\n",
      "Processing Record 39 of Set 11 : nanakuli\n",
      "Processing Record 40 of Set 11 : sun city west\n",
      "Processing Record 41 of Set 11 : kattivakkam\n",
      "Processing Record 42 of Set 11 : maracacume\n",
      "Processing Record 43 of Set 11 : ewa beach\n",
      "Processing Record 44 of Set 11 : rosetta\n",
      "Processing Record 45 of Set 11 : mporokoso\n",
      "Processing Record 46 of Set 11 : tezu\n",
      "Processing Record 47 of Set 11 : kotido\n",
      "Error: No such city\n",
      "Processing Record 48 of Set 11 : bella union\n",
      "Processing Record 49 of Set 11 : beringovskiy\n",
      "-------------------------------\n",
      "Data Retrieval Complete\n",
      "-------------------------------\n"
     ]
    }
   ],
   "source": [
    "#Blank lists\n",
    "\n",
    "city_list = []\n",
    "country = []\n",
    "latitude = []\n",
    "longitude = []\n",
    "\n",
    "cloud = []\n",
    "humidity = []\n",
    "max_temperature = []\n",
    "wind_speed = []\n",
    "date = []\n",
    "\n",
    "\n",
    "\n",
    "\n",
    "#Counters\n",
    "index_counter = 0\n",
    "set_counter = 1\n",
    "\n",
    "print('-------------------------')\n",
    "print(\"Beginning Data Retrieval \")\n",
    "print('-------------------------')\n",
    "\n",
    "\n",
    "#URL\n",
    "base_url = \"http://api.openweathermap.org/data/2.5/weather?\"\n",
    "units = \"imperial\"\n",
    "query_url = f\"{base_url}appid={weather_api_key}&units={units}&q=\"\n",
    "\n",
    "\n",
    "\n",
    "#Loop to match the city names with the list of cities \n",
    "for index, city in enumerate(cities, start = 1):\n",
    "    try:\n",
    "        response = requests.get(query_url + city).json()\n",
    "        \n",
    "        \n",
    "        city_list.append(response[\"name\"])\n",
    "        country.append(response[\"sys\"][\"country\"])\n",
    "        latitude.append(response[\"coord\"][\"lat\"])\n",
    "        longitude.append(response[\"coord\"][\"lon\"])\n",
    "        \n",
    "        \n",
    "        cloud.append(response[\"clouds\"][\"all\"])\n",
    "        humidity.append(response[\"main\"][\"humidity\"])\n",
    "        max_temperature.append(response['main']['temp_max'])\n",
    "        wind_speed.append(response[\"wind\"][\"speed\"])\n",
    "        date.append(response[\"dt\"])\n",
    "        \n",
    "        \n",
    "        \n",
    "        \n",
    "        if  index_counter < 50:\n",
    "            index_counter += 1\n",
    "        else:\n",
    "            set_counter += 1\n",
    "            index_counter = 0\n",
    "        \n",
    "\n",
    "    \n",
    "        print(f\"Processing Record {index_counter} of Set {set_counter} : {city}\")\n",
    "        \n",
    "    except(KeyError, IndexError):\n",
    "        print(\"Error: No such city\")\n",
    "        \n",
    "print(\"-------------------------------\")\n",
    "print(\"Data Retrieval Complete\")\n",
    "print(\"-------------------------------\")"
   ]
  },
  {
   "cell_type": "code",
   "execution_count": null,
   "metadata": {
    "scrolled": true
   },
   "outputs": [],
   "source": []
  },
  {
   "cell_type": "markdown",
   "metadata": {},
   "source": [
    "### Convert Raw Data to DataFrame\n",
    "* Export the city data into a .csv.\n",
    "* Display the DataFrame"
   ]
  },
  {
   "cell_type": "code",
   "execution_count": 5,
   "metadata": {},
   "outputs": [
    {
     "data": {
      "text/html": [
       "<div>\n",
       "<style scoped>\n",
       "    .dataframe tbody tr th:only-of-type {\n",
       "        vertical-align: middle;\n",
       "    }\n",
       "\n",
       "    .dataframe tbody tr th {\n",
       "        vertical-align: top;\n",
       "    }\n",
       "\n",
       "    .dataframe thead th {\n",
       "        text-align: right;\n",
       "    }\n",
       "</style>\n",
       "<table border=\"1\" class=\"dataframe\">\n",
       "  <thead>\n",
       "    <tr style=\"text-align: right;\">\n",
       "      <th></th>\n",
       "      <th>City</th>\n",
       "      <th>Lat</th>\n",
       "      <th>Lng</th>\n",
       "      <th>Max Temp</th>\n",
       "      <th>Humidity</th>\n",
       "      <th>Cloudiness</th>\n",
       "      <th>Wind Speed</th>\n",
       "      <th>Country</th>\n",
       "      <th>Date</th>\n",
       "    </tr>\n",
       "  </thead>\n",
       "  <tbody>\n",
       "    <tr>\n",
       "      <th>0</th>\n",
       "      <td>Bambous Virieux</td>\n",
       "      <td>-20.3428</td>\n",
       "      <td>57.7575</td>\n",
       "      <td>76.21</td>\n",
       "      <td>57</td>\n",
       "      <td>40</td>\n",
       "      <td>9.22</td>\n",
       "      <td>MU</td>\n",
       "      <td>1629958981</td>\n",
       "    </tr>\n",
       "    <tr>\n",
       "      <th>1</th>\n",
       "      <td>La Santisima Trinidad</td>\n",
       "      <td>-14.8333</td>\n",
       "      <td>-64.9000</td>\n",
       "      <td>80.83</td>\n",
       "      <td>34</td>\n",
       "      <td>51</td>\n",
       "      <td>3.40</td>\n",
       "      <td>BO</td>\n",
       "      <td>1629958982</td>\n",
       "    </tr>\n",
       "    <tr>\n",
       "      <th>2</th>\n",
       "      <td>Qaanaaq</td>\n",
       "      <td>77.4840</td>\n",
       "      <td>-69.3632</td>\n",
       "      <td>37.04</td>\n",
       "      <td>94</td>\n",
       "      <td>100</td>\n",
       "      <td>8.05</td>\n",
       "      <td>GL</td>\n",
       "      <td>1629958982</td>\n",
       "    </tr>\n",
       "    <tr>\n",
       "      <th>3</th>\n",
       "      <td>Haverfordwest</td>\n",
       "      <td>51.8017</td>\n",
       "      <td>-4.9691</td>\n",
       "      <td>60.55</td>\n",
       "      <td>89</td>\n",
       "      <td>3</td>\n",
       "      <td>4.25</td>\n",
       "      <td>GB</td>\n",
       "      <td>1629958982</td>\n",
       "    </tr>\n",
       "    <tr>\n",
       "      <th>4</th>\n",
       "      <td>Port Alfred</td>\n",
       "      <td>-33.5906</td>\n",
       "      <td>26.8910</td>\n",
       "      <td>73.96</td>\n",
       "      <td>35</td>\n",
       "      <td>48</td>\n",
       "      <td>9.80</td>\n",
       "      <td>ZA</td>\n",
       "      <td>1629958800</td>\n",
       "    </tr>\n",
       "  </tbody>\n",
       "</table>\n",
       "</div>"
      ],
      "text/plain": [
       "                    City      Lat      Lng  Max Temp  Humidity  Cloudiness  \\\n",
       "0        Bambous Virieux -20.3428  57.7575     76.21        57          40   \n",
       "1  La Santisima Trinidad -14.8333 -64.9000     80.83        34          51   \n",
       "2                Qaanaaq  77.4840 -69.3632     37.04        94         100   \n",
       "3          Haverfordwest  51.8017  -4.9691     60.55        89           3   \n",
       "4            Port Alfred -33.5906  26.8910     73.96        35          48   \n",
       "\n",
       "   Wind Speed Country        Date  \n",
       "0        9.22      MU  1629958981  \n",
       "1        3.40      BO  1629958982  \n",
       "2        8.05      GL  1629958982  \n",
       "3        4.25      GB  1629958982  \n",
       "4        9.80      ZA  1629958800  "
      ]
     },
     "execution_count": 5,
     "metadata": {},
     "output_type": "execute_result"
    }
   ],
   "source": [
    "#Create a dataframe from the lists that were retrieved in previous step\n",
    "weather_df = pd.DataFrame(\n",
    "    {\n",
    "\"City\" : city_list, \n",
    "\"Lat\" : latitude,\n",
    "\"Lng\" : longitude,\n",
    "\"Max Temp\" : max_temperature, \n",
    "\"Humidity\" : humidity, \n",
    "\"Cloudiness\" : cloud, \n",
    "\"Wind Speed\" : wind_speed, \n",
    "\"Country\" : country,\n",
    "\"Date\" : date \n",
    "   }\n",
    ")\n",
    "weather_df.head()"
   ]
  },
  {
   "cell_type": "code",
   "execution_count": 6,
   "metadata": {},
   "outputs": [],
   "source": [
    "#Output file\n",
    "weather_df.to_csv(output_data_file,index = False)"
   ]
  },
  {
   "cell_type": "code",
   "execution_count": 16,
   "metadata": {},
   "outputs": [
    {
     "data": {
      "text/html": [
       "<div>\n",
       "<style scoped>\n",
       "    .dataframe tbody tr th:only-of-type {\n",
       "        vertical-align: middle;\n",
       "    }\n",
       "\n",
       "    .dataframe tbody tr th {\n",
       "        vertical-align: top;\n",
       "    }\n",
       "\n",
       "    .dataframe thead th {\n",
       "        text-align: right;\n",
       "    }\n",
       "</style>\n",
       "<table border=\"1\" class=\"dataframe\">\n",
       "  <thead>\n",
       "    <tr style=\"text-align: right;\">\n",
       "      <th></th>\n",
       "      <th>Lat</th>\n",
       "      <th>Lng</th>\n",
       "      <th>Max Temp</th>\n",
       "      <th>Humidity</th>\n",
       "      <th>Cloudiness</th>\n",
       "      <th>Wind Speed</th>\n",
       "      <th>Date</th>\n",
       "    </tr>\n",
       "  </thead>\n",
       "  <tbody>\n",
       "    <tr>\n",
       "      <td>count</td>\n",
       "      <td>599.000000</td>\n",
       "      <td>599.000000</td>\n",
       "      <td>599.000000</td>\n",
       "      <td>599.000000</td>\n",
       "      <td>599.000000</td>\n",
       "      <td>599.000000</td>\n",
       "      <td>5.990000e+02</td>\n",
       "    </tr>\n",
       "    <tr>\n",
       "      <td>mean</td>\n",
       "      <td>19.877028</td>\n",
       "      <td>19.568998</td>\n",
       "      <td>69.794808</td>\n",
       "      <td>69.353923</td>\n",
       "      <td>51.569282</td>\n",
       "      <td>7.979416</td>\n",
       "      <td>1.593605e+09</td>\n",
       "    </tr>\n",
       "    <tr>\n",
       "      <td>std</td>\n",
       "      <td>33.262944</td>\n",
       "      <td>91.418472</td>\n",
       "      <td>15.678452</td>\n",
       "      <td>22.704698</td>\n",
       "      <td>35.405602</td>\n",
       "      <td>5.660694</td>\n",
       "      <td>5.738815e+01</td>\n",
       "    </tr>\n",
       "    <tr>\n",
       "      <td>min</td>\n",
       "      <td>-54.800000</td>\n",
       "      <td>-179.170000</td>\n",
       "      <td>12.200000</td>\n",
       "      <td>7.000000</td>\n",
       "      <td>0.000000</td>\n",
       "      <td>0.360000</td>\n",
       "      <td>1.593605e+09</td>\n",
       "    </tr>\n",
       "    <tr>\n",
       "      <td>25%</td>\n",
       "      <td>-8.540000</td>\n",
       "      <td>-61.210000</td>\n",
       "      <td>59.000000</td>\n",
       "      <td>55.000000</td>\n",
       "      <td>20.000000</td>\n",
       "      <td>3.620000</td>\n",
       "      <td>1.593605e+09</td>\n",
       "    </tr>\n",
       "    <tr>\n",
       "      <td>50%</td>\n",
       "      <td>24.370000</td>\n",
       "      <td>24.670000</td>\n",
       "      <td>73.110000</td>\n",
       "      <td>75.000000</td>\n",
       "      <td>59.000000</td>\n",
       "      <td>6.730000</td>\n",
       "      <td>1.593605e+09</td>\n",
       "    </tr>\n",
       "    <tr>\n",
       "      <td>75%</td>\n",
       "      <td>46.585000</td>\n",
       "      <td>102.255000</td>\n",
       "      <td>80.600000</td>\n",
       "      <td>87.000000</td>\n",
       "      <td>85.000000</td>\n",
       "      <td>11.050000</td>\n",
       "      <td>1.593605e+09</td>\n",
       "    </tr>\n",
       "    <tr>\n",
       "      <td>max</td>\n",
       "      <td>78.220000</td>\n",
       "      <td>179.320000</td>\n",
       "      <td>116.600000</td>\n",
       "      <td>100.000000</td>\n",
       "      <td>100.000000</td>\n",
       "      <td>42.500000</td>\n",
       "      <td>1.593605e+09</td>\n",
       "    </tr>\n",
       "  </tbody>\n",
       "</table>\n",
       "</div>"
      ],
      "text/plain": [
       "              Lat         Lng    Max Temp    Humidity  Cloudiness  Wind Speed  \\\n",
       "count  599.000000  599.000000  599.000000  599.000000  599.000000  599.000000   \n",
       "mean    19.877028   19.568998   69.794808   69.353923   51.569282    7.979416   \n",
       "std     33.262944   91.418472   15.678452   22.704698   35.405602    5.660694   \n",
       "min    -54.800000 -179.170000   12.200000    7.000000    0.000000    0.360000   \n",
       "25%     -8.540000  -61.210000   59.000000   55.000000   20.000000    3.620000   \n",
       "50%     24.370000   24.670000   73.110000   75.000000   59.000000    6.730000   \n",
       "75%     46.585000  102.255000   80.600000   87.000000   85.000000   11.050000   \n",
       "max     78.220000  179.320000  116.600000  100.000000  100.000000   42.500000   \n",
       "\n",
       "               Date  \n",
       "count  5.990000e+02  \n",
       "mean   1.593605e+09  \n",
       "std    5.738815e+01  \n",
       "min    1.593605e+09  \n",
       "25%    1.593605e+09  \n",
       "50%    1.593605e+09  \n",
       "75%    1.593605e+09  \n",
       "max    1.593605e+09  "
      ]
     },
     "execution_count": 16,
     "metadata": {},
     "output_type": "execute_result"
    }
   ],
   "source": []
  },
  {
   "cell_type": "markdown",
   "metadata": {},
   "source": [
    "## Inspect the data and remove the cities where the humidity > 100%.\n",
    "----\n",
    "Skip this step if there are no cities that have humidity > 100%. "
   ]
  },
  {
   "cell_type": "code",
   "execution_count": 6,
   "metadata": {},
   "outputs": [
    {
     "data": {
      "text/html": [
       "<div>\n",
       "<style scoped>\n",
       "    .dataframe tbody tr th:only-of-type {\n",
       "        vertical-align: middle;\n",
       "    }\n",
       "\n",
       "    .dataframe tbody tr th {\n",
       "        vertical-align: top;\n",
       "    }\n",
       "\n",
       "    .dataframe thead th {\n",
       "        text-align: right;\n",
       "    }\n",
       "</style>\n",
       "<table border=\"1\" class=\"dataframe\">\n",
       "  <thead>\n",
       "    <tr style=\"text-align: right;\">\n",
       "      <th></th>\n",
       "      <th>Lat</th>\n",
       "      <th>Lng</th>\n",
       "      <th>Max Temp</th>\n",
       "      <th>Humidity</th>\n",
       "      <th>Cloudiness</th>\n",
       "      <th>Wind Speed</th>\n",
       "      <th>Date</th>\n",
       "    </tr>\n",
       "  </thead>\n",
       "  <tbody>\n",
       "    <tr>\n",
       "      <th>count</th>\n",
       "      <td>550.000000</td>\n",
       "      <td>550.000000</td>\n",
       "      <td>550.000000</td>\n",
       "      <td>550.000000</td>\n",
       "      <td>550.000000</td>\n",
       "      <td>550.000000</td>\n",
       "      <td>5.500000e+02</td>\n",
       "    </tr>\n",
       "    <tr>\n",
       "      <th>mean</th>\n",
       "      <td>19.973545</td>\n",
       "      <td>17.124400</td>\n",
       "      <td>58.331400</td>\n",
       "      <td>67.890909</td>\n",
       "      <td>52.141818</td>\n",
       "      <td>8.544800</td>\n",
       "      <td>1.585764e+09</td>\n",
       "    </tr>\n",
       "    <tr>\n",
       "      <th>std</th>\n",
       "      <td>33.284840</td>\n",
       "      <td>91.595451</td>\n",
       "      <td>25.795297</td>\n",
       "      <td>20.864881</td>\n",
       "      <td>35.766469</td>\n",
       "      <td>6.078869</td>\n",
       "      <td>5.539674e+01</td>\n",
       "    </tr>\n",
       "    <tr>\n",
       "      <th>min</th>\n",
       "      <td>-54.800000</td>\n",
       "      <td>-179.170000</td>\n",
       "      <td>-11.340000</td>\n",
       "      <td>9.000000</td>\n",
       "      <td>0.000000</td>\n",
       "      <td>0.160000</td>\n",
       "      <td>1.585764e+09</td>\n",
       "    </tr>\n",
       "    <tr>\n",
       "      <th>25%</th>\n",
       "      <td>-8.077500</td>\n",
       "      <td>-64.627500</td>\n",
       "      <td>42.800000</td>\n",
       "      <td>55.000000</td>\n",
       "      <td>20.000000</td>\n",
       "      <td>4.525000</td>\n",
       "      <td>1.585764e+09</td>\n",
       "    </tr>\n",
       "    <tr>\n",
       "      <th>50%</th>\n",
       "      <td>23.630000</td>\n",
       "      <td>19.635000</td>\n",
       "      <td>64.940000</td>\n",
       "      <td>72.000000</td>\n",
       "      <td>57.000000</td>\n",
       "      <td>7.325000</td>\n",
       "      <td>1.585764e+09</td>\n",
       "    </tr>\n",
       "    <tr>\n",
       "      <th>75%</th>\n",
       "      <td>48.672500</td>\n",
       "      <td>97.350000</td>\n",
       "      <td>78.800000</td>\n",
       "      <td>83.000000</td>\n",
       "      <td>86.750000</td>\n",
       "      <td>11.410000</td>\n",
       "      <td>1.585764e+09</td>\n",
       "    </tr>\n",
       "    <tr>\n",
       "      <th>max</th>\n",
       "      <td>78.220000</td>\n",
       "      <td>179.320000</td>\n",
       "      <td>102.200000</td>\n",
       "      <td>100.000000</td>\n",
       "      <td>100.000000</td>\n",
       "      <td>46.080000</td>\n",
       "      <td>1.585764e+09</td>\n",
       "    </tr>\n",
       "  </tbody>\n",
       "</table>\n",
       "</div>"
      ],
      "text/plain": [
       "              Lat         Lng    Max Temp    Humidity  Cloudiness  Wind Speed  \\\n",
       "count  550.000000  550.000000  550.000000  550.000000  550.000000  550.000000   \n",
       "mean    19.973545   17.124400   58.331400   67.890909   52.141818    8.544800   \n",
       "std     33.284840   91.595451   25.795297   20.864881   35.766469    6.078869   \n",
       "min    -54.800000 -179.170000  -11.340000    9.000000    0.000000    0.160000   \n",
       "25%     -8.077500  -64.627500   42.800000   55.000000   20.000000    4.525000   \n",
       "50%     23.630000   19.635000   64.940000   72.000000   57.000000    7.325000   \n",
       "75%     48.672500   97.350000   78.800000   83.000000   86.750000   11.410000   \n",
       "max     78.220000  179.320000  102.200000  100.000000  100.000000   46.080000   \n",
       "\n",
       "               Date  \n",
       "count  5.500000e+02  \n",
       "mean   1.585764e+09  \n",
       "std    5.539674e+01  \n",
       "min    1.585764e+09  \n",
       "25%    1.585764e+09  \n",
       "50%    1.585764e+09  \n",
       "75%    1.585764e+09  \n",
       "max    1.585764e+09  "
      ]
     },
     "execution_count": 6,
     "metadata": {},
     "output_type": "execute_result"
    }
   ],
   "source": []
  },
  {
   "cell_type": "code",
   "execution_count": 17,
   "metadata": {},
   "outputs": [
    {
     "data": {
      "text/plain": [
       "Int64Index([], dtype='int64')"
      ]
     },
     "execution_count": 17,
     "metadata": {},
     "output_type": "execute_result"
    }
   ],
   "source": [
    "#  Get the indices of cities that have humidity over 100%.\n"
   ]
  },
  {
   "cell_type": "code",
   "execution_count": 19,
   "metadata": {},
   "outputs": [
    {
     "data": {
      "text/html": [
       "<div>\n",
       "<style scoped>\n",
       "    .dataframe tbody tr th:only-of-type {\n",
       "        vertical-align: middle;\n",
       "    }\n",
       "\n",
       "    .dataframe tbody tr th {\n",
       "        vertical-align: top;\n",
       "    }\n",
       "\n",
       "    .dataframe thead th {\n",
       "        text-align: right;\n",
       "    }\n",
       "</style>\n",
       "<table border=\"1\" class=\"dataframe\">\n",
       "  <thead>\n",
       "    <tr style=\"text-align: right;\">\n",
       "      <th></th>\n",
       "      <th>City</th>\n",
       "      <th>Lat</th>\n",
       "      <th>Lng</th>\n",
       "      <th>Max Temp</th>\n",
       "      <th>Humidity</th>\n",
       "      <th>Cloudiness</th>\n",
       "      <th>Wind Speed</th>\n",
       "      <th>Country</th>\n",
       "      <th>Date</th>\n",
       "    </tr>\n",
       "  </thead>\n",
       "  <tbody>\n",
       "    <tr>\n",
       "      <td>0</td>\n",
       "      <td>butaritari</td>\n",
       "      <td>3.07</td>\n",
       "      <td>172.79</td>\n",
       "      <td>83.32</td>\n",
       "      <td>74</td>\n",
       "      <td>84</td>\n",
       "      <td>10.42</td>\n",
       "      <td>KI</td>\n",
       "      <td>1593605283</td>\n",
       "    </tr>\n",
       "    <tr>\n",
       "      <td>1</td>\n",
       "      <td>yerbogachen</td>\n",
       "      <td>61.28</td>\n",
       "      <td>108.01</td>\n",
       "      <td>79.52</td>\n",
       "      <td>58</td>\n",
       "      <td>20</td>\n",
       "      <td>7.70</td>\n",
       "      <td>RU</td>\n",
       "      <td>1593605121</td>\n",
       "    </tr>\n",
       "    <tr>\n",
       "      <td>2</td>\n",
       "      <td>cape town</td>\n",
       "      <td>-33.93</td>\n",
       "      <td>18.42</td>\n",
       "      <td>73.00</td>\n",
       "      <td>77</td>\n",
       "      <td>27</td>\n",
       "      <td>4.70</td>\n",
       "      <td>ZA</td>\n",
       "      <td>1593605039</td>\n",
       "    </tr>\n",
       "    <tr>\n",
       "      <td>3</td>\n",
       "      <td>touba</td>\n",
       "      <td>8.28</td>\n",
       "      <td>-7.68</td>\n",
       "      <td>79.97</td>\n",
       "      <td>75</td>\n",
       "      <td>82</td>\n",
       "      <td>3.58</td>\n",
       "      <td>CI</td>\n",
       "      <td>1593605284</td>\n",
       "    </tr>\n",
       "    <tr>\n",
       "      <td>4</td>\n",
       "      <td>jamestown</td>\n",
       "      <td>42.10</td>\n",
       "      <td>-79.24</td>\n",
       "      <td>64.00</td>\n",
       "      <td>88</td>\n",
       "      <td>1</td>\n",
       "      <td>6.93</td>\n",
       "      <td>US</td>\n",
       "      <td>1593605284</td>\n",
       "    </tr>\n",
       "  </tbody>\n",
       "</table>\n",
       "</div>"
      ],
      "text/plain": [
       "          City    Lat     Lng  Max Temp  Humidity  Cloudiness  Wind Speed  \\\n",
       "0   butaritari   3.07  172.79     83.32        74          84       10.42   \n",
       "1  yerbogachen  61.28  108.01     79.52        58          20        7.70   \n",
       "2    cape town -33.93   18.42     73.00        77          27        4.70   \n",
       "3        touba   8.28   -7.68     79.97        75          82        3.58   \n",
       "4    jamestown  42.10  -79.24     64.00        88           1        6.93   \n",
       "\n",
       "  Country        Date  \n",
       "0      KI  1593605283  \n",
       "1      RU  1593605121  \n",
       "2      ZA  1593605039  \n",
       "3      CI  1593605284  \n",
       "4      US  1593605284  "
      ]
     },
     "execution_count": 19,
     "metadata": {},
     "output_type": "execute_result"
    }
   ],
   "source": [
    "# Make a new DataFrame equal to the city data to drop all humidity outliers by index.\n",
    "# Passing \"inplace=False\" will make a copy of the city_data DataFrame, which we call \"clean_city_data\".\n"
   ]
  },
  {
   "cell_type": "markdown",
   "metadata": {},
   "source": [
    "## Plotting the Data\n",
    "* Use proper labeling of the plots using plot titles (including date of analysis) and axes labels.\n",
    "* Save the plotted figures as .pngs."
   ]
  },
  {
   "cell_type": "markdown",
   "metadata": {},
   "source": [
    "## Latitude vs. Temperature Plot"
   ]
  },
  {
   "cell_type": "code",
   "execution_count": 7,
   "metadata": {},
   "outputs": [
    {
     "data": {
      "image/png": "[encoded data removed]",
      "text/plain": [
       "<Figure size 432x288 with 1 Axes>"
      ]
     },
     "metadata": {
      "needs_background": "light"
     },
     "output_type": "display_data"
    }
   ],
   "source": [
    "#Latitude vs Temperature scatter plot\n",
    "\n",
    "plt.scatter(weather_df[\"Lat\"], weather_df[\"Max Temp\"], color = \"blue\", edgecolor = \"black\")\n",
    "plt.title(\"City Latitude vs. Max Temperature (08/25/21)\")\n",
    "plt.xlabel(\"Latitude\")\n",
    "plt.ylabel(\"Max Temperature (F)\")\n",
    "plt.grid(linestyle='-', linewidth=2, alpha=0.5)\n",
    "plt.savefig(\"../output_data_weatherpy/Lat_vs_Temp\")"
   ]
  },
  {
   "cell_type": "markdown",
   "metadata": {},
   "source": [
    "## Latitude vs. Humidity Plot"
   ]
  },
  {
   "cell_type": "code",
   "execution_count": 8,
   "metadata": {},
   "outputs": [
    {
     "data": {
      "image/png": "[encoded data removed]",
      "text/plain": [
       "<Figure size 432x288 with 1 Axes>"
      ]
     },
     "metadata": {
      "needs_background": "light"
     },
     "output_type": "display_data"
    }
   ],
   "source": [
    "#Latitude vs Humidity scatter plot\n",
    "\n",
    "plt.scatter(weather_df[\"Lat\"], weather_df[\"Humidity\"], color = \"blue\", edgecolor = \"black\")\n",
    "plt.title(\"City Latitude vs Humidity (08/25/21)\")\n",
    "plt.xlabel(\"Latitude\")\n",
    "plt.ylabel(\"Humidity (%)\")\n",
    "plt.grid(linestyle='-', linewidth=2, alpha=0.5)\n",
    "plt.savefig(\"../output_data_weatherpy/Lat_vs_Humdity\")"
   ]
  },
  {
   "cell_type": "markdown",
   "metadata": {},
   "source": [
    "## Latitude vs. Cloudiness Plot"
   ]
  },
  {
   "cell_type": "code",
   "execution_count": 9,
   "metadata": {},
   "outputs": [
    {
     "data": {
      "image/png": "[encoded data removed]",
      "text/plain": [
       "<Figure size 432x288 with 1 Axes>"
      ]
     },
     "metadata": {
      "needs_background": "light"
     },
     "output_type": "display_data"
    }
   ],
   "source": [
    "#Latitude vs Humidity scatter plot\n",
    "\n",
    "plt.scatter(weather_df[\"Lat\"], weather_df[\"Cloudiness\"], color = \"blue\", edgecolor = \"black\")\n",
    "plt.title(\"City Latitude vs Cloudiness (08/25/21)\")\n",
    "plt.xlabel(\"Latitude\")\n",
    "plt.ylabel(\"Cloudiness (%)\")\n",
    "plt.grid(linestyle='-', linewidth=2, alpha=0.5)\n",
    "plt.savefig(\"../output_data_weatherpy/Lat_vs_Cloudiness\")"
   ]
  },
  {
   "cell_type": "markdown",
   "metadata": {},
   "source": [
    "## Latitude vs. Wind Speed Plot"
   ]
  },
  {
   "cell_type": "code",
   "execution_count": 10,
   "metadata": {},
   "outputs": [
    {
     "data": {
      "image/png": "[encoded data removed]",
      "text/plain": [
       "<Figure size 432x288 with 1 Axes>"
      ]
     },
     "metadata": {
      "needs_background": "light"
     },
     "output_type": "display_data"
    }
   ],
   "source": [
    "#Latitude vs Humidity scatter plot\n",
    "\n",
    "plt.scatter(weather_df[\"Lat\"], weather_df[\"Wind Speed\"], color = \"blue\", edgecolor = \"black\")\n",
    "plt.title(\"City Latitude vs Wind Speed (08/25/21)\")\n",
    "plt.xlabel(\"Latitude\")\n",
    "plt.ylabel(\"Wind Speed (mph)\")\n",
    "plt.grid(linestyle='-', linewidth=2, alpha=0.5)\n",
    "plt.savefig(\"../output_data_weatherpy/Lat_vs_Wind_Speed\")"
   ]
  },
  {
   "cell_type": "markdown",
   "metadata": {},
   "source": [
    "## Linear Regression"
   ]
  },
  {
   "cell_type": "code",
   "execution_count": 41,
   "metadata": {},
   "outputs": [],
   "source": [
    "northern_hemesphire = weather_df.loc[weather_df[\"Lat\"] >= 0.0]\n",
    "northern_hemesphire.reset_index(inplace=True)\n",
    "\n",
    "southern_hemesphire = weather_df.loc[weather_df[\"Lat\"] < 0.0]\n",
    "southern_hemesphire.reset_index(inplace=True)\n",
    "\n",
    "def linear_regression_plot(xdata,ydata,x_axis,y_axis,pos_label):\n",
    "    \n",
    "    \n",
    "    (slope, intercept, rvalue, pvalue, stderr) = linregress(xdata, ydata)\n",
    "    print(f\"The r-squared is: {rvalue}\")\n",
    "    regress_values = xdata * slope + intercept\n",
    "    line_eq = \"y = \" + str(round(slope,2)) + \"x + \" + str(round(intercept,2))\n",
    "\n",
    "    plt.scatter(xdata,ydata)\n",
    "    plt.plot(xdata,regress_values,\"r-\")\n",
    "    plt.annotate(line_eq,pos_label,fontsize=15,color=\"red\")\n",
    "    plt.xlabel(x_axis)\n",
    "    plt.ylabel(y_axis)\n",
    "       "
   ]
  },
  {
   "cell_type": "markdown",
   "metadata": {},
   "source": [
    "####  Northern Hemisphere - Max Temp vs. Latitude Linear Regression"
   ]
  },
  {
   "cell_type": "code",
   "execution_count": 43,
   "metadata": {},
   "outputs": [
    {
     "name": "stdout",
     "output_type": "stream",
     "text": [
      "The r-squared is: -0.7223600849809451\n"
     ]
    },
    {
     "data": {
      "image/png": "[encoded data removed]",
      "text/plain": [
       "<Figure size 432x288 with 1 Axes>"
      ]
     },
     "metadata": {
      "needs_background": "light"
     },
     "output_type": "display_data"
    }
   ],
   "source": [
    "#Northern Hemisphere - Max Temp vs. Latitude Linear Regression\n",
    "x_axis = \"Lat\"\n",
    "y_axis = \"Max Temp\"\n",
    "pos_label = (0,25)\n",
    "linear_regression_plot(northern_hemesphire[x_axis],northern_hemesphire[y_axis],x_axis,y_axis,pos_label)\n",
    "plt.savefig(\"../output_data_weatherpy/NH_LR_Temp_vs_Lat\")"
   ]
  },
  {
   "cell_type": "markdown",
   "metadata": {},
   "source": [
    "####  Southern Hemisphere - Max Temp vs. Latitude Linear Regression"
   ]
  },
  {
   "cell_type": "code",
   "execution_count": 44,
   "metadata": {},
   "outputs": [
    {
     "name": "stdout",
     "output_type": "stream",
     "text": [
      "The r-squared is: 0.7882712125128192\n"
     ]
    },
    {
     "data": {
      "image/png": "[encoded data removed]",
      "text/plain": [
       "<Figure size 432x288 with 1 Axes>"
      ]
     },
     "metadata": {
      "needs_background": "light"
     },
     "output_type": "display_data"
    }
   ],
   "source": [
    "#Southern Hemisphere - Max Temp vs. Latitude Linear Regression\n",
    "x_axis = \"Lat\"\n",
    "y_axis = \"Max Temp\"\n",
    "pos_label = (0,25)\n",
    "linear_regression_plot(southern_hemesphire[x_axis],southern_hemesphire[y_axis],x_axis,y_axis,pos_label)\n",
    "plt.savefig(\"../output_data_weatherpy/SH_LR_Temp_vs_Lat\")\n"
   ]
  },
  {
   "cell_type": "markdown",
   "metadata": {},
   "source": [
    "####  Northern Hemisphere - Humidity (%) vs. Latitude Linear Regression"
   ]
  },
  {
   "cell_type": "code",
   "execution_count": 45,
   "metadata": {},
   "outputs": [
    {
     "name": "stdout",
     "output_type": "stream",
     "text": [
      "The r-squared is: 0.07883716368518225\n"
     ]
    },
    {
     "data": {
      "image/png": "[encoded data removed]",
      "text/plain": [
       "<Figure size 432x288 with 1 Axes>"
      ]
     },
     "metadata": {
      "needs_background": "light"
     },
     "output_type": "display_data"
    }
   ],
   "source": [
    "#Northern Hemisphere - Humidity (%) vs. Latitude Linear Regression\n",
    "x_axis = \"Lat\"\n",
    "y_axis = \"Humidity\"\n",
    "pos_label = (0,25)\n",
    "linear_regression_plot(northern_hemesphire[x_axis],northern_hemesphire[y_axis],x_axis,y_axis,pos_label)\n",
    "plt.savefig(\"../output_data_weatherpy/NH_LR_Humidity_vs_Lat\")\n"
   ]
  },
  {
   "cell_type": "markdown",
   "metadata": {},
   "source": [
    "####  Southern Hemisphere - Humidity (%) vs. Latitude Linear Regression"
   ]
  },
  {
   "cell_type": "code",
   "execution_count": 46,
   "metadata": {},
   "outputs": [
    {
     "name": "stdout",
     "output_type": "stream",
     "text": [
      "The r-squared is: -0.028275172628522995\n"
     ]
    },
    {
     "data": {
      "image/png": "[encoded data removed]",
      "text/plain": [
       "<Figure size 432x288 with 1 Axes>"
      ]
     },
     "metadata": {
      "needs_background": "light"
     },
     "output_type": "display_data"
    }
   ],
   "source": [
    "#Southern Hemisphere - Humidity (%) vs. Latitude Linear Regression\n",
    "x_axis = \"Lat\"\n",
    "y_axis = \"Humidity\"\n",
    "pos_label = (0,25)\n",
    "linear_regression_plot(southern_hemesphire[x_axis],southern_hemesphire[y_axis],x_axis,y_axis,pos_label)\n",
    "plt.savefig(\"../output_data_weatherpy/SH_LR_Humidity_vs_Lat\")"
   ]
  },
  {
   "cell_type": "markdown",
   "metadata": {},
   "source": [
    "####  Northern Hemisphere - Cloudiness (%) vs. Latitude Linear Regression"
   ]
  },
  {
   "cell_type": "code",
   "execution_count": 47,
   "metadata": {},
   "outputs": [
    {
     "name": "stdout",
     "output_type": "stream",
     "text": [
      "The r-squared is: 0.03409286926840782\n"
     ]
    },
    {
     "data": {
      "image/png": "[encoded data removed]",
      "text/plain": [
       "<Figure size 432x288 with 1 Axes>"
      ]
     },
     "metadata": {
      "needs_background": "light"
     },
     "output_type": "display_data"
    }
   ],
   "source": [
    "#Northern Hemisphere - Cloudiness (%) vs. Latitude Linear Regression\n",
    "x_axis = \"Lat\"\n",
    "y_axis = \"Cloudiness\"\n",
    "pos_label = (0,25)\n",
    "linear_regression_plot(northern_hemesphire[x_axis],northern_hemesphire[y_axis],x_axis,y_axis,pos_label)\n",
    "plt.savefig(\"../output_data_weatherpy/NH_LR_Cloudiness_vs_Lat\")"
   ]
  },
  {
   "cell_type": "markdown",
   "metadata": {},
   "source": [
    "####  Southern Hemisphere - Cloudiness (%) vs. Latitude Linear Regression"
   ]
  },
  {
   "cell_type": "code",
   "execution_count": 48,
   "metadata": {},
   "outputs": [
    {
     "name": "stdout",
     "output_type": "stream",
     "text": [
      "The r-squared is: -0.03560676316669476\n"
     ]
    },
    {
     "data": {
      "image/png": "[encoded data removed]",
      "text/plain": [
       "<Figure size 432x288 with 1 Axes>"
      ]
     },
     "metadata": {
      "needs_background": "light"
     },
     "output_type": "display_data"
    }
   ],
   "source": [
    "#Southern Hemisphere - Cloudiness (%) vs. Latitude Linear Regression\n",
    "x_axis = \"Lat\"\n",
    "y_axis = \"Cloudiness\"\n",
    "pos_label = (0,25)\n",
    "linear_regression_plot(southern_hemesphire[x_axis],southern_hemesphire[y_axis],x_axis,y_axis,pos_label)\n",
    "plt.savefig(\"../output_data_weatherpy/SH_LR_Cloudiness_vs_Lat\")"
   ]
  },
  {
   "cell_type": "markdown",
   "metadata": {},
   "source": [
    "####  Northern Hemisphere - Wind Speed (mph) vs. Latitude Linear Regression"
   ]
  },
  {
   "cell_type": "code",
   "execution_count": 49,
   "metadata": {},
   "outputs": [
    {
     "name": "stdout",
     "output_type": "stream",
     "text": [
      "The r-squared is: 0.12598117995559827\n"
     ]
    },
    {
     "data": {
      "image/png": "[encoded data removed]",
      "text/plain": [
       "<Figure size 432x288 with 1 Axes>"
      ]
     },
     "metadata": {
      "needs_background": "light"
     },
     "output_type": "display_data"
    }
   ],
   "source": [
    "#Northern Hemisphere - Wind Speed (mph) vs. Latitude Linear Regression\n",
    "x_axis = \"Lat\"\n",
    "y_axis = \"Wind Speed\"\n",
    "pos_label = (0,25)\n",
    "linear_regression_plot(northern_hemesphire[x_axis],northern_hemesphire[y_axis],x_axis,y_axis,pos_label)\n",
    "plt.savefig(\"../output_data_weatherpy/NH_LR_Wind_vs_Lat\")\n"
   ]
  },
  {
   "cell_type": "markdown",
   "metadata": {},
   "source": [
    "####  Southern Hemisphere - Wind Speed (mph) vs. Latitude Linear Regression"
   ]
  },
  {
   "cell_type": "code",
   "execution_count": 50,
   "metadata": {},
   "outputs": [
    {
     "name": "stdout",
     "output_type": "stream",
     "text": [
      "The r-squared is: -0.0527634382866509\n"
     ]
    },
    {
     "data": {
      "image/png": "[encoded data removed]",
      "text/plain": [
       "<Figure size 432x288 with 1 Axes>"
      ]
     },
     "metadata": {
      "needs_background": "light"
     },
     "output_type": "display_data"
    }
   ],
   "source": [
    "#Southern Hemisphere - Wind Speed (mph) vs. Latitude Linear Regression\n",
    "x_axis = \"Lat\"\n",
    "y_axis = \"Wind Speed\"\n",
    "pos_label = (0,25)\n",
    "linear_regression_plot(southern_hemesphire[x_axis],southern_hemesphire[y_axis],x_axis,y_axis,pos_label)\n",
    "plt.savefig(\"../output_data_weatherpy/SH_LR_Wind_vs_Lat\")"
   ]
  },
  {
   "cell_type": "code",
   "execution_count": null,
   "metadata": {},
   "outputs": [],
   "source": []
  }
 ],
 "metadata": {
  "anaconda-cloud": {},
  "kernel_info": {
   "name": "python3"
  },
  "kernelspec": {
   "display_name": "Python 3",
   "language": "python",
   "name": "python3"
  },
  "language_info": {
   "codemirror_mode": {
    "name": "ipython",
    "version": 3
   },
   "file_extension": ".py",
   "mimetype": "text/x-python",
   "name": "python",
   "nbconvert_exporter": "python",
   "pygments_lexer": "ipython3",
   "version": "3.8.8"
  },
  "latex_envs": {
   "LaTeX_envs_menu_present": true,
   "autoclose": false,
   "autocomplete": true,
   "bibliofile": "biblio.bib",
   "cite_by": "apalike",
   "current_citInitial": 1,
   "eqLabelWithNumbers": true,
   "eqNumInitial": 1,
   "hotkeys": {
    "equation": "Ctrl-E",
    "itemize": "Ctrl-I"
   },
   "labels_anchors": false,
   "latex_user_defs": false,
   "report_style_numbering": false,
   "user_envs_cfg": false
  },
  "nteract": {
   "version": "0.12.3"
  }
 },
 "nbformat": 4,
 "nbformat_minor": 2
}
